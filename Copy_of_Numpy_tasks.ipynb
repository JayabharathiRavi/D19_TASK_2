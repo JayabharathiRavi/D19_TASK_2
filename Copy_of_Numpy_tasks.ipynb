{
  "cells": [
    {
      "cell_type": "markdown",
      "metadata": {
        "id": "view-in-github",
        "colab_type": "text"
      },
      "source": [
        "<a href=\"https://colab.research.google.com/github/JayabharathiRavi/D19_TASK_2/blob/main/Copy_of_Numpy_tasks.ipynb\" target=\"_parent\"><img src=\"https://colab.research.google.com/assets/colab-badge.svg\" alt=\"Open In Colab\"/></a>"
      ]
    },
    {
      "cell_type": "markdown",
      "metadata": {
        "id": "tTEsEACoiaV9"
      },
      "source": [
        "# Numpy\n",
        "\n"
      ]
    },
    {
      "cell_type": "markdown",
      "metadata": {
        "id": "cISvMADCiaWF"
      },
      "source": [
        "#### 1. Import the numpy package under the name `np` (★☆☆) \n",
        "(**hint**: import … as …)"
      ]
    },
    {
      "cell_type": "code",
      "execution_count": null,
      "metadata": {
        "collapsed": true,
        "id": "Ehj8IOLtiaWH"
      },
      "outputs": [],
      "source": [
        "import numpy as np"
      ]
    },
    {
      "cell_type": "markdown",
      "metadata": {
        "id": "eaw7KENSiaWI"
      },
      "source": [
        "#### 2. Print the numpy version and the configuration (★☆☆) \n",
        "\n",
        "1.   List item\n",
        "\n",
        "1.   List item\n",
        "2.   List item\n",
        "\n",
        "\n",
        "2.   List item\n",
        "\n",
        "\n",
        "(**hint**: np.\\_\\_version\\_\\_, np.show\\_config)"
      ]
    },
    {
      "cell_type": "code",
      "execution_count": null,
      "metadata": {
        "id": "EjS3gM8FiaWJ",
        "colab": {
          "base_uri": "https://localhost:8080/"
        },
        "outputId": "250e8797-ca58-4472-bce4-b5292a496946"
      },
      "outputs": [
        {
          "output_type": "stream",
          "name": "stdout",
          "text": [
            "blas_mkl_info:\n",
            "  NOT AVAILABLE\n",
            "blis_info:\n",
            "  NOT AVAILABLE\n",
            "openblas_info:\n",
            "    libraries = ['openblas', 'openblas']\n",
            "    library_dirs = ['/usr/local/lib']\n",
            "    language = c\n",
            "    define_macros = [('HAVE_CBLAS', None)]\n",
            "blas_opt_info:\n",
            "    libraries = ['openblas', 'openblas']\n",
            "    library_dirs = ['/usr/local/lib']\n",
            "    language = c\n",
            "    define_macros = [('HAVE_CBLAS', None)]\n",
            "lapack_mkl_info:\n",
            "  NOT AVAILABLE\n",
            "openblas_lapack_info:\n",
            "    libraries = ['openblas', 'openblas']\n",
            "    library_dirs = ['/usr/local/lib']\n",
            "    language = c\n",
            "    define_macros = [('HAVE_CBLAS', None)]\n",
            "lapack_opt_info:\n",
            "    libraries = ['openblas', 'openblas']\n",
            "    library_dirs = ['/usr/local/lib']\n",
            "    language = c\n",
            "    define_macros = [('HAVE_CBLAS', None)]\n",
            "1.19.5 None\n"
          ]
        }
      ],
      "source": [
        "print(np.__version__ , np.show_config())"
      ]
    },
    {
      "cell_type": "markdown",
      "metadata": {
        "id": "YpyQ0CLriaWJ"
      },
      "source": [
        "#### 3. Create a null vector of size 10 (★☆☆) \n",
        "(**hint**: np.zeros)"
      ]
    },
    {
      "cell_type": "code",
      "execution_count": null,
      "metadata": {
        "id": "45X4OGnIiaWK",
        "colab": {
          "base_uri": "https://localhost:8080/"
        },
        "outputId": "63d4a15a-442b-4266-bb6b-2955e8b518e2"
      },
      "outputs": [
        {
          "output_type": "stream",
          "name": "stdout",
          "text": [
            "[0. 0. 0. 0. 0. 0. 0. 0. 0. 0.]\n"
          ]
        }
      ],
      "source": [
        "print(np.zeros(10))"
      ]
    },
    {
      "cell_type": "markdown",
      "metadata": {
        "id": "p9_JAcNWiaWL"
      },
      "source": [
        "#### 4.  How to find the memory size of any array (★☆☆)\n",
        "\n",
        "> *Indented block*\n",
        "\n",
        "\n",
        "(**hint**: size, itemsize)"
      ]
    },
    {
      "cell_type": "code",
      "execution_count": null,
      "metadata": {
        "id": "4dpcnRe_iaWM",
        "colab": {
          "base_uri": "https://localhost:8080/"
        },
        "outputId": "2b73e743-a590-4a87-a3da-702e2e3e8f94"
      },
      "outputs": [
        {
          "output_type": "stream",
          "name": "stdout",
          "text": [
            "5\n",
            "8\n"
          ]
        }
      ],
      "source": [
        "arr=np.array([1,2,3,4,5])\n",
        "print(arr.size)\n",
        "print(arr.itemsize)"
      ]
    },
    {
      "cell_type": "markdown",
      "metadata": {
        "id": "4znzRX97iaWN"
      },
      "source": [
        "#### 5.  How to get the documentation of the numpy add function from the command line? (★☆☆) \n",
        "(**hint**: np.info)"
      ]
    },
    {
      "cell_type": "code",
      "execution_count": null,
      "metadata": {
        "collapsed": true,
        "id": "jVdvbFDQiaWN",
        "colab": {
          "base_uri": "https://localhost:8080/"
        },
        "outputId": "26ca7cb7-4abc-40b8-a238-af7c740fefd1"
      },
      "outputs": [
        {
          "output_type": "stream",
          "name": "stdout",
          "text": [
            "None\n"
          ]
        }
      ],
      "source": [
        "import numpy as np\n",
        "print(np.info(np.add))"
      ]
    },
    {
      "cell_type": "markdown",
      "metadata": {
        "id": "nGLcs9WOiaWO"
      },
      "source": [
        "#### 6.  Create a null vector of size 10 but the fifth value which is 1 (★☆☆) \n",
        "(**hint**: array\\[4\\])"
      ]
    },
    {
      "cell_type": "code",
      "execution_count": null,
      "metadata": {
        "id": "qsowhqa7iaWP",
        "colab": {
          "base_uri": "https://localhost:8080/"
        },
        "outputId": "6a4625f5-c70f-4f0c-cc89-a6538fe5f3df"
      },
      "outputs": [
        {
          "output_type": "stream",
          "name": "stdout",
          "text": [
            "[0. 0. 0. 0. 1. 0. 0. 0. 0. 0.]\n"
          ]
        }
      ],
      "source": [
        "array=np.zeros(10)\n",
        "array[4]=1\n",
        "print(array)"
      ]
    },
    {
      "cell_type": "markdown",
      "metadata": {
        "id": "8-nsNoyEiaWP"
      },
      "source": [
        "#### 7.  Create a vector with values ranging from 10 to 49 (★☆☆) \n",
        "(**hint**: np.arange)"
      ]
    },
    {
      "cell_type": "code",
      "execution_count": null,
      "metadata": {
        "id": "vMDKahqFiaWQ",
        "colab": {
          "base_uri": "https://localhost:8080/"
        },
        "outputId": "66f53748-8e3e-4136-987a-fdb9d245f6d4"
      },
      "outputs": [
        {
          "output_type": "stream",
          "name": "stdout",
          "text": [
            "[10 11 12 13 14 15 16 17 18 19 20 21 22 23 24 25 26 27 28 29 30 31 32 33\n",
            " 34 35 36 37 38 39 40 41 42 43 44 45 46 47 48 49]\n"
          ]
        }
      ],
      "source": [
        "print(np.arange(10,50))"
      ]
    },
    {
      "cell_type": "markdown",
      "metadata": {
        "id": "PGLVxVdAiaWQ"
      },
      "source": [
        "#### 8.  Reverse a vector (first element becomes last) (★☆☆) \n",
        "(**hint**: array\\[::-1\\])"
      ]
    },
    {
      "cell_type": "code",
      "execution_count": null,
      "metadata": {
        "id": "XzyMlFu3iaWR",
        "colab": {
          "base_uri": "https://localhost:8080/"
        },
        "outputId": "b5c1f58f-436e-48a6-bf40-25fd45906cc4"
      },
      "outputs": [
        {
          "output_type": "stream",
          "name": "stdout",
          "text": [
            "[5, 4, 3, 2, 1]\n"
          ]
        }
      ],
      "source": [
        "array=[1,2,3,4,5]\n",
        "print(array[::-1])"
      ]
    },
    {
      "cell_type": "markdown",
      "metadata": {
        "id": "osQQxZSpiaWR"
      },
      "source": [
        "#### 9.  Create a 3x3 matrix with values ranging from 0 to 8 (★☆☆) \n",
        "(**hint**: reshape)"
      ]
    },
    {
      "cell_type": "code",
      "execution_count": null,
      "metadata": {
        "id": "Xud40LciiaWR",
        "colab": {
          "base_uri": "https://localhost:8080/"
        },
        "outputId": "e785e226-b3f6-48ce-f7ed-3dc8b7642d3a"
      },
      "outputs": [
        {
          "output_type": "stream",
          "name": "stdout",
          "text": [
            "[[0 1 2]\n",
            " [3 4 5]\n",
            " [6 7 8]]\n"
          ]
        }
      ],
      "source": [
        "a=np.arange(9)\n",
        "print(a.reshape(3,3))"
      ]
    },
    {
      "cell_type": "markdown",
      "metadata": {
        "id": "q4OxWiWBiaWS"
      },
      "source": [
        "#### 10. Find indices of non-zero elements from \\[1,2,0,0,4,0\\] (★☆☆) \n",
        "(**hint**: np.nonzero)"
      ]
    },
    {
      "cell_type": "code",
      "execution_count": null,
      "metadata": {
        "id": "mVUCP9jziaWS",
        "colab": {
          "base_uri": "https://localhost:8080/"
        },
        "outputId": "86956070-c7ed-48ff-d285-133f1c039437"
      },
      "outputs": [
        {
          "output_type": "stream",
          "name": "stdout",
          "text": [
            "(array([0, 1, 4]),)\n"
          ]
        }
      ],
      "source": [
        "a=[1,2,0,0,4,0]\n",
        "print(np.nonzero(a))"
      ]
    },
    {
      "cell_type": "markdown",
      "metadata": {
        "id": "iJVtT9INiaWT"
      },
      "source": [
        "#### 11. Create a 3x3 identity matrix (★☆☆) \n",
        "(**hint**: np.eye)"
      ]
    },
    {
      "cell_type": "code",
      "execution_count": null,
      "metadata": {
        "id": "JN5ZmK5ciaWT",
        "colab": {
          "base_uri": "https://localhost:8080/"
        },
        "outputId": "0f245b99-487a-4a75-9716-e996acfca854"
      },
      "outputs": [
        {
          "output_type": "stream",
          "name": "stdout",
          "text": [
            "[[1. 0. 0.]\n",
            " [0. 1. 0.]\n",
            " [0. 0. 1.]]\n"
          ]
        }
      ],
      "source": [
        "print(np.eye(3))"
      ]
    },
    {
      "cell_type": "markdown",
      "metadata": {
        "id": "dP9vwI32iaWU"
      },
      "source": [
        "#### 12. Create a 3x3x3 array with random values (★☆☆) \n",
        "(**hint**: np.random.random)"
      ]
    },
    {
      "cell_type": "code",
      "execution_count": null,
      "metadata": {
        "id": "ec1M7XD7iaWU",
        "colab": {
          "base_uri": "https://localhost:8080/"
        },
        "outputId": "57db9f94-c934-4d61-d787-55661872b295"
      },
      "outputs": [
        {
          "output_type": "stream",
          "name": "stdout",
          "text": [
            "[[[0.30091745 0.57542984 0.73919497]\n",
            "  [0.83380093 0.22470874 0.94459282]\n",
            "  [0.51194092 0.35948916 0.8583976 ]]\n",
            "\n",
            " [[0.43726289 0.96117264 0.90352185]\n",
            "  [0.16774724 0.54204045 0.09347972]\n",
            "  [0.82603791 0.0226092  0.87579351]]\n",
            "\n",
            " [[0.92003105 0.87342398 0.734147  ]\n",
            "  [0.9795707  0.78761013 0.32593451]\n",
            "  [0.10952461 0.00781391 0.7287945 ]]]\n"
          ]
        }
      ],
      "source": [
        "import numpy as np\n",
        "x = np.random.random((3,3,3))\n",
        "print(x)"
      ]
    },
    {
      "cell_type": "markdown",
      "metadata": {
        "id": "9QlB2_mYiaWU"
      },
      "source": [
        "#### 13. Create a 10x10 array with random values and find the minimum and maximum values (★☆☆) \n",
        "(**hint**: min, max)"
      ]
    },
    {
      "cell_type": "code",
      "execution_count": null,
      "metadata": {
        "id": "-HqJXN1EiaWU",
        "colab": {
          "base_uri": "https://localhost:8080/"
        },
        "outputId": "8763ff52-aeb7-4914-cef1-ad63abf4c43c"
      },
      "outputs": [
        {
          "output_type": "stream",
          "name": "stdout",
          "text": [
            "0.007819118118251311 0.9980067052427671\n"
          ]
        }
      ],
      "source": [
        "y = np.random.random((10,10))\n",
        "#print(y)\n",
        "print(y.min(),y.max())"
      ]
    },
    {
      "cell_type": "markdown",
      "metadata": {
        "id": "XMN08B0UiaWV"
      },
      "source": [
        "#### 14. Create a random vector of size 30 and find the mean value (★☆☆) \n",
        "(**hint**: mean)"
      ]
    },
    {
      "cell_type": "code",
      "execution_count": null,
      "metadata": {
        "id": "AbGegQDziaWV",
        "colab": {
          "base_uri": "https://localhost:8080/"
        },
        "outputId": "b42bfed6-5bf4-41a6-f1f8-b4101d3b478c"
      },
      "outputs": [
        {
          "output_type": "stream",
          "name": "stdout",
          "text": [
            "0.4865049447994358\n"
          ]
        }
      ],
      "source": [
        "z=np.random.random(30)\n",
        "#print(z)\n",
        "print(z.mean())"
      ]
    },
    {
      "cell_type": "markdown",
      "metadata": {
        "id": "hk8lUoCziaWV"
      },
      "source": [
        "#### 15. Create a 2d array with 1 on the border and 0 inside (★☆☆) \n",
        "(**hint**: array\\[1:-1, 1:-1\\])"
      ]
    },
    {
      "cell_type": "code",
      "execution_count": null,
      "metadata": {
        "id": "wMcHsMajiaWW",
        "colab": {
          "base_uri": "https://localhost:8080/"
        },
        "outputId": "8a8eb0ff-bdb9-490c-8da0-3959305c5467"
      },
      "outputs": [
        {
          "output_type": "stream",
          "name": "stdout",
          "text": [
            "[[1. 1. 1.]\n",
            " [1. 0. 1.]\n",
            " [1. 1. 1.]]\n"
          ]
        }
      ],
      "source": [
        "array = np.ones((3,3))\n",
        "array[1:-1,1:-1] = 0\n",
        "print(array)"
      ]
    },
    {
      "cell_type": "markdown",
      "metadata": {
        "id": "WC_FDauriaWW"
      },
      "source": [
        "#### 16. How to add a border (filled with 0's) around an existing array? (★☆☆) \n",
        "(**hint**: np.pad)"
      ]
    },
    {
      "cell_type": "code",
      "execution_count": null,
      "metadata": {
        "id": "z3oGXGAziaWW",
        "colab": {
          "base_uri": "https://localhost:8080/"
        },
        "outputId": "d7f12c60-c9bb-42c3-de36-a8bb34b5dad1"
      },
      "outputs": [
        {
          "output_type": "stream",
          "name": "stdout",
          "text": [
            "[[0. 0. 0. 0. 0.]\n",
            " [0. 1. 1. 1. 0.]\n",
            " [0. 1. 1. 1. 0.]\n",
            " [0. 1. 1. 1. 0.]\n",
            " [0. 0. 0. 0. 0.]]\n"
          ]
        }
      ],
      "source": [
        "array = np.ones((3,3))\n",
        "print(np.pad(array,pad_width=1, mode='constant', constant_values=0))"
      ]
    },
    {
      "cell_type": "markdown",
      "metadata": {
        "id": "gtq7I2HLiaWW"
      },
      "source": [
        "#### 17. What is the result of the following expression? (★☆☆) \n",
        "(**hint**: NaN = not a number, inf = infinity)"
      ]
    },
    {
      "cell_type": "markdown",
      "metadata": {
        "id": "XMGYY8o2iaWX"
      },
      "source": [
        "```python\n",
        "0 * np.nan\n",
        "np.nan == np.nan\n",
        "np.inf > np.nan\n",
        "np.nan - np.nan\n",
        "0.3 == 3 * 0.1\n",
        "```"
      ]
    },
    {
      "cell_type": "code",
      "execution_count": null,
      "metadata": {
        "id": "B1KPgJADiaWX",
        "colab": {
          "base_uri": "https://localhost:8080/"
        },
        "outputId": "d220d3ff-637a-4724-e3b7-4750dab29da2"
      },
      "outputs": [
        {
          "output_type": "stream",
          "name": "stdout",
          "text": [
            "nan\n",
            "False\n",
            "False\n",
            "nan\n",
            "False\n"
          ]
        }
      ],
      "source": [
        "print(0 * np.nan)\n",
        "print(np.nan == np.nan)\n",
        "print(np.inf > np.nan)\n",
        "print(np.nan - np.nan)\n",
        "print(0.3 == 3 * 0.1)"
      ]
    },
    {
      "cell_type": "markdown",
      "metadata": {
        "id": "1HxAiqk9iaWX"
      },
      "source": [
        "#### 18. Create a 5x5 matrix with values 1,2,3,4 just below the diagonal (★☆☆) \n",
        "(**hint**: np.diag)"
      ]
    },
    {
      "cell_type": "code",
      "execution_count": null,
      "metadata": {
        "id": "Z3AMnR89iaWY",
        "colab": {
          "base_uri": "https://localhost:8080/"
        },
        "outputId": "1e132bec-1e1e-4f20-e244-150f386e1736"
      },
      "outputs": [
        {
          "output_type": "stream",
          "name": "stdout",
          "text": [
            "[[0 0 0 0 0]\n",
            " [0 1 0 0 0]\n",
            " [0 0 2 0 0]\n",
            " [0 0 0 3 0]\n",
            " [0 0 0 0 4]]\n"
          ]
        }
      ],
      "source": [
        "d = np.diag(np.arange(5))\n",
        "print(d)"
      ]
    },
    {
      "cell_type": "markdown",
      "metadata": {
        "id": "D-3TGyHIiaWY"
      },
      "source": [
        "#### 19. Create a 8x8 matrix and fill it with a checkerboard pattern (★☆☆) \n",
        "(**hint**: array\\[::2\\])"
      ]
    },
    {
      "cell_type": "code",
      "execution_count": null,
      "metadata": {
        "id": "e-fKT7wyiaWY",
        "colab": {
          "base_uri": "https://localhost:8080/"
        },
        "outputId": "125e151f-5cd4-41d2-fdea-a2736651e101"
      },
      "outputs": [
        {
          "output_type": "stream",
          "name": "stdout",
          "text": [
            "[[0 1 0 1 0 1 0 1]\n",
            " [1 0 1 0 1 0 1 0]\n",
            " [0 1 0 1 0 1 0 1]\n",
            " [1 0 1 0 1 0 1 0]\n",
            " [0 1 0 1 0 1 0 1]\n",
            " [1 0 1 0 1 0 1 0]\n",
            " [0 1 0 1 0 1 0 1]\n",
            " [1 0 1 0 1 0 1 0]]\n"
          ]
        }
      ],
      "source": [
        "array = np.zeros((8,8),dtype=int)\n",
        "array[1::2,::2] = 1\n",
        "array[::2,1::2] = 1\n",
        "print(array)"
      ]
    },
    {
      "cell_type": "markdown",
      "metadata": {
        "id": "S6FDbLuCiaWZ"
      },
      "source": [
        "#### 20. Consider a (6,7,8) shape array, what is the index (x,y,z) of the 100th element? \n",
        "(**hint**: np.unravel_index)"
      ]
    },
    {
      "cell_type": "code",
      "execution_count": null,
      "metadata": {
        "id": "-OJlEFg5iaWZ",
        "colab": {
          "base_uri": "https://localhost:8080/"
        },
        "outputId": "1c1257b9-0627-4898-f5fc-ea312e9b335c"
      },
      "outputs": [
        {
          "output_type": "stream",
          "name": "stdout",
          "text": [
            "(1, 5, 3)\n"
          ]
        }
      ],
      "source": [
        "print(np.unravel_index(99,(6,7,8)))"
      ]
    },
    {
      "cell_type": "markdown",
      "metadata": {
        "id": "RWf4NdvDiaWZ"
      },
      "source": [
        "#### 21. Create a checkerboard 8x8 matrix using the tile function (★☆☆) \n",
        "(**hint**: np.tile)"
      ]
    },
    {
      "cell_type": "code",
      "execution_count": null,
      "metadata": {
        "id": "vwSD7PRqiaWa",
        "colab": {
          "base_uri": "https://localhost:8080/"
        },
        "outputId": "9c289876-07eb-4085-aa2f-60266179a0de"
      },
      "outputs": [
        {
          "output_type": "stream",
          "name": "stdout",
          "text": [
            "[[0 1 0 1 0 1 0 1]\n",
            " [1 0 1 0 1 0 1 0]\n",
            " [0 1 0 1 0 1 0 1]\n",
            " [1 0 1 0 1 0 1 0]\n",
            " [0 1 0 1 0 1 0 1]\n",
            " [1 0 1 0 1 0 1 0]\n",
            " [0 1 0 1 0 1 0 1]\n",
            " [1 0 1 0 1 0 1 0]]\n"
          ]
        }
      ],
      "source": [
        "a=np.tile( np.array([[0,1],[1,0]]), (4,4))\n",
        "print(a)"
      ]
    },
    {
      "cell_type": "markdown",
      "metadata": {
        "id": "VDMwhUUfiaWa"
      },
      "source": [
        "#### 22. Normalize a 5x5 random matrix (★☆☆) \n",
        "(**hint**: (x - min) / (max - min))"
      ]
    },
    {
      "cell_type": "code",
      "execution_count": null,
      "metadata": {
        "id": "UkTL6u_XiaWa",
        "colab": {
          "base_uri": "https://localhost:8080/"
        },
        "outputId": "fb7315ea-2f08-4f2e-cf11-61268c540339"
      },
      "outputs": [
        {
          "output_type": "stream",
          "name": "stdout",
          "text": [
            "[[0.4377687  0.69516248 1.         0.47894055 0.51030171]\n",
            " [0.35205928 0.81196602 0.90028145 0.502647   0.71439754]\n",
            " [0.61985506 0.71810267 0.5122016  0.72512494 0.68216779]\n",
            " [0.31380478 0.39954696 0.21126816 0.         0.49300439]\n",
            " [0.10140688 0.29100657 0.41259388 0.78535085 0.67040297]]\n"
          ]
        }
      ],
      "source": [
        "x = np.random.random((5,5))\n",
        "min=x.min()\n",
        "max=x.max()\n",
        "print((x-min)/(max-min))"
      ]
    },
    {
      "cell_type": "markdown",
      "metadata": {
        "id": "9qiiTZRCiaWa"
      },
      "source": [
        "#### 23. Create a custom dtype that describes a color as four unsigned bytes (RGBA) (★☆☆) \n",
        "(**hint**: np.dtype)"
      ]
    },
    {
      "cell_type": "code",
      "execution_count": null,
      "metadata": {
        "collapsed": true,
        "id": "ATVt-IfdiaWb",
        "colab": {
          "base_uri": "https://localhost:8080/"
        },
        "outputId": "8e116b54-6c57-468f-9c42-be313b245a14"
      },
      "outputs": [
        {
          "output_type": "stream",
          "name": "stdout",
          "text": [
            "[('R', 'u1'), ('G', 'u1'), ('B', 'u1'), ('A', 'u1')]\n"
          ]
        }
      ],
      "source": [
        "color=np.dtype([('R',np.ubyte),('G',np.ubyte),('B',np.ubyte),('A',np.ubyte)])\n",
        "print(color)"
      ]
    },
    {
      "cell_type": "markdown",
      "metadata": {
        "id": "ZXNQRXVsiaWb"
      },
      "source": [
        "#### 24. Multiply a 5x3 matrix by a 3x2 matrix (real matrix product) (★☆☆) \n",
        "(**hint**: np.dot | @)"
      ]
    },
    {
      "cell_type": "code",
      "execution_count": null,
      "metadata": {
        "id": "wZvuqNvAiaWb",
        "colab": {
          "base_uri": "https://localhost:8080/"
        },
        "outputId": "4473253d-3f09-4e93-b918-79a0c1e730c1"
      },
      "outputs": [
        {
          "output_type": "stream",
          "name": "stdout",
          "text": [
            "[[1.19464299 0.99187872]\n",
            " [0.67827822 0.73244752]\n",
            " [0.8637491  0.95182085]\n",
            " [0.74161904 0.6269319 ]\n",
            " [0.34714688 0.5844742 ]]\n"
          ]
        }
      ],
      "source": [
        "x = np.random.random((5,3))\n",
        "y = np.random.random((3,2))\n",
        "a=np.dot(x,y)\n",
        "print(a)"
      ]
    },
    {
      "cell_type": "markdown",
      "metadata": {
        "id": "-BRg86SViaWb"
      },
      "source": [
        "#### 25. Given a 1D array, negate all elements which are between 3 and 8, in place. (★☆☆) \n",
        "(**hint**: >, <=)"
      ]
    },
    {
      "cell_type": "code",
      "execution_count": null,
      "metadata": {
        "id": "PVdxgwCdiaWc",
        "colab": {
          "base_uri": "https://localhost:8080/"
        },
        "outputId": "fd007a46-423f-4b3b-d0c4-2eb55124642a"
      },
      "outputs": [
        {
          "output_type": "stream",
          "name": "stdout",
          "text": [
            "[ 0  1  2  3 -4 -5 -6 -7  8  9]\n"
          ]
        }
      ],
      "source": [
        "array=np.arange(11)\n",
        "array[(3 < array) & (array< 8)] *= -1\n",
        "print(array)"
      ]
    },
    {
      "cell_type": "markdown",
      "metadata": {
        "id": "JHFJA9AqiaWc"
      },
      "source": [
        "#### 26. What is the output of the following script? (★☆☆) \n",
        "(**hint**: np.sum)"
      ]
    },
    {
      "cell_type": "markdown",
      "metadata": {
        "id": "QY1qbN6viaWc"
      },
      "source": [
        "```python\n",
        "# Author: Jake VanderPlas\n",
        "\n",
        "print(sum(range(5),-1))\n",
        "from numpy import *\n",
        "print(sum(range(5),-1))\n",
        "```"
      ]
    },
    {
      "cell_type": "code",
      "execution_count": null,
      "metadata": {
        "id": "Fj9SinMTiaWc",
        "colab": {
          "base_uri": "https://localhost:8080/"
        },
        "outputId": "6543018c-da49-4de3-b139-28f640d3caea"
      },
      "outputs": [
        {
          "output_type": "stream",
          "name": "stdout",
          "text": [
            "9\n",
            "10\n"
          ]
        }
      ],
      "source": [
        "print(sum(range(5),-1))\n",
        "from numpy import *\n",
        "print(sum(range(5),-1))"
      ]
    },
    {
      "cell_type": "markdown",
      "metadata": {
        "id": "aWpqYBvLiaWd"
      },
      "source": [
        "#### 27. Consider an integer vector Z, which of these expressions are legal? (★☆☆)"
      ]
    },
    {
      "cell_type": "markdown",
      "metadata": {
        "id": "OZxTojt8iaWd"
      },
      "source": [
        "```python\n",
        "Z**Z\n",
        "2 << Z >> 2\n",
        "Z <- Z\n",
        "1j*Z\n",
        "Z/1/1\n",
        "Z<Z>Z\n",
        "```"
      ]
    },
    {
      "cell_type": "code",
      "execution_count": null,
      "metadata": {
        "id": "-MQ7UtuhiaWd",
        "colab": {
          "base_uri": "https://localhost:8080/",
          "height": 236
        },
        "outputId": "1dfc99d6-c7c3-4663-be5f-2084aed92127"
      },
      "outputs": [
        {
          "output_type": "error",
          "ename": "ValueError",
          "evalue": "ignored",
          "traceback": [
            "\u001b[0;31m---------------------------------------------------------------------------\u001b[0m",
            "\u001b[0;31mValueError\u001b[0m                                Traceback (most recent call last)",
            "\u001b[0;32m<ipython-input-36-df09455ef898>\u001b[0m in \u001b[0;36m<module>\u001b[0;34m()\u001b[0m\n\u001b[0;32m----> 1\u001b[0;31m \u001b[0mZ\u001b[0m\u001b[0;34m**\u001b[0m\u001b[0mZ\u001b[0m\u001b[0;34m\u001b[0m\u001b[0;34m\u001b[0m\u001b[0m\n\u001b[0m\u001b[1;32m      2\u001b[0m \u001b[0;36m2\u001b[0m \u001b[0;34m<<\u001b[0m \u001b[0mZ\u001b[0m \u001b[0;34m>>\u001b[0m \u001b[0;36m2\u001b[0m\u001b[0;34m\u001b[0m\u001b[0;34m\u001b[0m\u001b[0m\n\u001b[1;32m      3\u001b[0m \u001b[0mZ\u001b[0m \u001b[0;34m<\u001b[0m\u001b[0;34m-\u001b[0m \u001b[0mZ\u001b[0m\u001b[0;34m\u001b[0m\u001b[0;34m\u001b[0m\u001b[0m\n\u001b[1;32m      4\u001b[0m \u001b[0;36m1j\u001b[0m\u001b[0;34m*\u001b[0m\u001b[0mZ\u001b[0m\u001b[0;34m\u001b[0m\u001b[0;34m\u001b[0m\u001b[0m\n\u001b[1;32m      5\u001b[0m \u001b[0mZ\u001b[0m\u001b[0;34m/\u001b[0m\u001b[0;36m1\u001b[0m\u001b[0;34m/\u001b[0m\u001b[0;36m1\u001b[0m\u001b[0;34m\u001b[0m\u001b[0;34m\u001b[0m\u001b[0m\n",
            "\u001b[0;31mValueError\u001b[0m: Integers to negative integer powers are not allowed."
          ]
        }
      ],
      "source": [
        "Z**Z\n",
        "2 << Z >> 2\n",
        "Z <- Z\n",
        "1j*Z\n",
        "Z/1/1\n",
        "Z<Z>Z\n",
        "#first and last are not legal"
      ]
    },
    {
      "cell_type": "markdown",
      "metadata": {
        "id": "X2Q3d0kniaWe"
      },
      "source": [
        "#### 28. What are the result of the following expressions?"
      ]
    },
    {
      "cell_type": "markdown",
      "metadata": {
        "id": "Ny7c89q6iaWe"
      },
      "source": [
        "```python\n",
        "np.array(0) / np.array(0)\n",
        "np.array(0) // np.array(0)\n",
        "np.array([np.nan]).astype(int).astype(float)\n",
        "```"
      ]
    },
    {
      "cell_type": "code",
      "execution_count": null,
      "metadata": {
        "id": "dNARj8QTiaWe",
        "colab": {
          "base_uri": "https://localhost:8080/"
        },
        "outputId": "92024cc4-4ea4-4b96-b191-3a6883c909e3"
      },
      "outputs": [
        {
          "output_type": "stream",
          "name": "stdout",
          "text": [
            "nan\n",
            "0\n",
            "[-9.22337204e+18]\n"
          ]
        },
        {
          "output_type": "stream",
          "name": "stderr",
          "text": [
            "/usr/local/lib/python3.7/dist-packages/ipykernel_launcher.py:1: RuntimeWarning: invalid value encountered in true_divide\n",
            "  \"\"\"Entry point for launching an IPython kernel.\n",
            "/usr/local/lib/python3.7/dist-packages/ipykernel_launcher.py:2: RuntimeWarning: divide by zero encountered in floor_divide\n",
            "  \n"
          ]
        }
      ],
      "source": [
        "print(np.array(0) / np.array(0))\n",
        "print(np.array(0) // np.array(0))\n",
        "print(np.array([np.nan]).astype(int).astype(float))"
      ]
    },
    {
      "cell_type": "markdown",
      "metadata": {
        "id": "BQH2acmZiaWe"
      },
      "source": [
        "#### 29. How to round away from zero a float array ? (★☆☆) \n",
        "(**hint**: np.uniform, np.copysign, np.ceil, np.abs)"
      ]
    },
    {
      "cell_type": "code",
      "execution_count": null,
      "metadata": {
        "id": "u6m7wHKaiaWf",
        "colab": {
          "base_uri": "https://localhost:8080/"
        },
        "outputId": "c0783936-d050-48be-d9c8-e695caf1322d"
      },
      "outputs": [
        {
          "output_type": "stream",
          "name": "stdout",
          "text": [
            "[-4. -3. -7. -2.  9.  9.  4. -2.  5. -2.]\n"
          ]
        }
      ],
      "source": [
        "Z = np.random.uniform(-10,+10,10)\n",
        "print (np.copysign(np.ceil(np.abs(Z)), Z))"
      ]
    },
    {
      "cell_type": "markdown",
      "metadata": {
        "id": "MRWRDxrziaWf"
      },
      "source": [
        "#### 30. How to find common values between two arrays? (★☆☆) \n",
        "(**hint**: np.intersect1d)"
      ]
    },
    {
      "cell_type": "code",
      "execution_count": null,
      "metadata": {
        "id": "jXoufNUiiaWf",
        "colab": {
          "base_uri": "https://localhost:8080/"
        },
        "outputId": "fbb4565e-a6bb-42c2-ed92-358c0ec516d1"
      },
      "outputs": [
        {
          "output_type": "stream",
          "name": "stdout",
          "text": [
            "[3 7 8]\n"
          ]
        }
      ],
      "source": [
        "a1= np.random.randint(0,10,10)\n",
        "a2= np.random.randint(0,10,10)\n",
        "print(np.intersect1d(a1,a2))"
      ]
    },
    {
      "cell_type": "markdown",
      "metadata": {
        "id": "wGUL1fUxiaWf"
      },
      "source": [
        "#### 31. How to ignore all numpy warnings (not recommended)? (★☆☆) \n",
        "(**hint**: np.seterr, np.errstate)"
      ]
    },
    {
      "cell_type": "code",
      "execution_count": null,
      "metadata": {
        "id": "hSkfk2_jiaWg",
        "colab": {
          "base_uri": "https://localhost:8080/"
        },
        "outputId": "4df9d716-8f68-40b3-9a20-66b15b76dd02"
      },
      "outputs": [
        {
          "output_type": "stream",
          "name": "stderr",
          "text": [
            "/usr/local/lib/python3.7/dist-packages/numpy/lib/nanfunctions.py:1114: RuntimeWarning: All-NaN slice encountered\n",
            "  overwrite_input=overwrite_input)\n"
          ]
        },
        {
          "output_type": "execute_result",
          "data": {
            "text/plain": [
              "array([nan, nan, nan, nan, nan, nan, nan, nan, nan, nan])"
            ]
          },
          "metadata": {},
          "execution_count": 3
        }
      ],
      "source": [
        "import numpy as np\n",
        "data = np.random.random(1000).reshape(10, 10,10) * np.nan\n",
        "np.seterr(all=\"ignore\")\n",
        "np.nanmedian(data, axis=[1, 2])\n"
      ]
    },
    {
      "cell_type": "markdown",
      "metadata": {
        "id": "mNKt0hgxiaWg"
      },
      "source": [
        "#### 32. Is the following expressions true? (★☆☆) \n",
        "(**hint**: imaginary number)"
      ]
    },
    {
      "cell_type": "markdown",
      "metadata": {
        "id": "XCfoD2OviaWg"
      },
      "source": [
        "```python\n",
        "\n",
        "> Indented block\n",
        "\n",
        "\n",
        "np.sqrt(-1) == np.emath.sqrt(-1)\n",
        "```"
      ]
    },
    {
      "cell_type": "code",
      "execution_count": null,
      "metadata": {
        "id": "jLCtRpONiaWg",
        "colab": {
          "base_uri": "https://localhost:8080/"
        },
        "outputId": "6b000b1e-af88-43e4-c20e-f4123d7a593d"
      },
      "outputs": [
        {
          "output_type": "execute_result",
          "data": {
            "text/plain": [
              "False"
            ]
          },
          "metadata": {},
          "execution_count": 5
        }
      ],
      "source": [
        "np.sqrt(-1) == np.emath.sqrt(-1)"
      ]
    },
    {
      "cell_type": "markdown",
      "metadata": {
        "id": "q6N7CNeQiaWg"
      },
      "source": [
        "#### 33. How to get the dates of yesterday, today and tomorrow? (★☆☆) \n",
        "(**hint**: np.datetime64, np.timedelta64)"
      ]
    },
    {
      "cell_type": "code",
      "execution_count": null,
      "metadata": {
        "collapsed": true,
        "id": "HPlP48CXiaWh",
        "colab": {
          "base_uri": "https://localhost:8080/"
        },
        "outputId": "496cc1ac-725c-42c9-a5ef-d6f6abd241c5"
      },
      "outputs": [
        {
          "output_type": "stream",
          "name": "stdout",
          "text": [
            "2022-02-02\n",
            "2022-02-03\n",
            "2022-02-04\n"
          ]
        }
      ],
      "source": [
        "yesterday = np.datetime64('today', 'D') - np.timedelta64(1, 'D')\n",
        "today     = np.datetime64('today', 'D')\n",
        "tomorrow  = np.datetime64('today', 'D') + np.timedelta64(1, 'D')\n",
        "print(yesterday)\n",
        "print(today)\n",
        "print(tomorrow)"
      ]
    },
    {
      "cell_type": "markdown",
      "metadata": {
        "id": "bGQgkbCyiaWh"
      },
      "source": [
        "#### 34. How to get all the dates corresponding to the month of July 2016? (★★☆) \n",
        "(**hint**: np.arange(dtype=datetime64\\['D'\\]))"
      ]
    },
    {
      "cell_type": "code",
      "execution_count": null,
      "metadata": {
        "id": "-iYou9p5iaWh",
        "colab": {
          "base_uri": "https://localhost:8080/"
        },
        "outputId": "40a18016-9892-4cc8-d9a4-bf36b16e2d36"
      },
      "outputs": [
        {
          "output_type": "stream",
          "name": "stdout",
          "text": [
            "['2016-07-01' '2016-07-02' '2016-07-03' '2016-07-04' '2016-07-05'\n",
            " '2016-07-06' '2016-07-07' '2016-07-08' '2016-07-09' '2016-07-10'\n",
            " '2016-07-11' '2016-07-12' '2016-07-13' '2016-07-14' '2016-07-15'\n",
            " '2016-07-16' '2016-07-17' '2016-07-18' '2016-07-19' '2016-07-20'\n",
            " '2016-07-21' '2016-07-22' '2016-07-23' '2016-07-24' '2016-07-25'\n",
            " '2016-07-26' '2016-07-27' '2016-07-28' '2016-07-29' '2016-07-30'\n",
            " '2016-07-31']\n"
          ]
        }
      ],
      "source": [
        "july= np.arange('2016-07' , '2016-08' ,dtype='datetime64[D]')\n",
        "print(july)"
      ]
    },
    {
      "cell_type": "markdown",
      "metadata": {
        "id": "499Sjd0hiaWh"
      },
      "source": [
        "#### 35. How to compute ((A+B)\\*(-A/2)) in place (without copy)? (★★☆) \n",
        "(**hint**: np.add(out=), np.negative(out=), np.multiply(out=), np.divide(out=))"
      ]
    },
    {
      "cell_type": "code",
      "execution_count": null,
      "metadata": {
        "id": "q_ZlOmCviaWi",
        "colab": {
          "base_uri": "https://localhost:8080/"
        },
        "outputId": "28b66c65-1d2f-4d38-c9e1-c2ce3b4f5c99"
      },
      "outputs": [
        {
          "output_type": "execute_result",
          "data": {
            "text/plain": [
              "array([-1.5, -1.5, -1.5])"
            ]
          },
          "metadata": {},
          "execution_count": 19
        }
      ],
      "source": [
        "A=np.ones(3)*1\n",
        "B=np.ones(3)*2\n",
        "C=np.ones(3)*3\n",
        "np.add(A,B,out=B)\n",
        "np.divide(A,2,out=A)\n",
        "np.negative(A,out=A)\n",
        "np.multiply(A,B,out=A)"
      ]
    },
    {
      "cell_type": "markdown",
      "metadata": {
        "id": "REBNQ2ZeiaWi"
      },
      "source": [
        "#### 36. Extract the integer part of a random array using 5 different methods (★★☆) \n",
        "(**hint**: %, np.floor, np.ceil, astype, np.trunc)"
      ]
    },
    {
      "cell_type": "code",
      "execution_count": null,
      "metadata": {
        "id": "m7dH7dATiaWi",
        "colab": {
          "base_uri": "https://localhost:8080/"
        },
        "outputId": "02807654-c9ed-487d-900c-de0496658f0b"
      },
      "outputs": [
        {
          "output_type": "stream",
          "name": "stdout",
          "text": [
            "[7. 0. 3. 9. 7. 2. 4. 7. 1. 1.]\n",
            "[7. 0. 3. 9. 7. 2. 4. 7. 1. 1.]\n",
            "[7. 0. 3. 9. 7. 2. 4. 7. 1. 1.]\n",
            "[7 0 3 9 7 2 4 7 1 1]\n",
            "[7. 0. 3. 9. 7. 2. 4. 7. 1. 1.]\n"
          ]
        }
      ],
      "source": [
        "a= np.random.uniform(0,10,10)\n",
        "print(a - a%1)\n",
        "print(np.floor(a))\n",
        "print (np.ceil(a)-1)\n",
        "print(a.astype(int))\n",
        "print(np.trunc(a))\n"
      ]
    },
    {
      "cell_type": "markdown",
      "metadata": {
        "id": "8KUBVNzCiaWi"
      },
      "source": [
        "#### 37. Create a 5x5 matrix with row values ranging from 0 to 4 (★★☆) \n",
        "(**hint**: np.arange)"
      ]
    },
    {
      "cell_type": "code",
      "execution_count": null,
      "metadata": {
        "id": "drTZSDi4iaWi",
        "colab": {
          "base_uri": "https://localhost:8080/"
        },
        "outputId": "c9ed30f2-807e-4b44-f4bf-2016a4c650fe"
      },
      "outputs": [
        {
          "output_type": "stream",
          "name": "stdout",
          "text": [
            "[[0. 1. 2. 3. 4.]\n",
            " [0. 1. 2. 3. 4.]\n",
            " [0. 1. 2. 3. 4.]\n",
            " [0. 1. 2. 3. 4.]\n",
            " [0. 1. 2. 3. 4.]]\n"
          ]
        }
      ],
      "source": [
        "matrix=np.zeros((5,5))\n",
        "matrix +=np.arange(5)\n",
        "print(matrix)"
      ]
    },
    {
      "cell_type": "markdown",
      "metadata": {
        "id": "Jd2sKUxfiaWj"
      },
      "source": [
        "#### 38. Consider a generator function that generates 10 integers and use it to build an array (★☆☆) \n",
        "(**hint**: np.fromiter)"
      ]
    },
    {
      "cell_type": "code",
      "execution_count": null,
      "metadata": {
        "id": "i1tb_j6XiaWj",
        "colab": {
          "base_uri": "https://localhost:8080/"
        },
        "outputId": "98f8c059-b9f5-4618-eaf6-250b35fba420"
      },
      "outputs": [
        {
          "output_type": "stream",
          "name": "stdout",
          "text": [
            "[0. 1. 2. 3. 4. 5. 6. 7. 8. 9.]\n"
          ]
        }
      ],
      "source": [
        "def generate():\n",
        "    for x in range(10):\n",
        "        yield x\n",
        "Z = np.fromiter(generate(),dtype=float,count=-1)\n",
        "print(Z)"
      ]
    },
    {
      "cell_type": "markdown",
      "metadata": {
        "id": "jba-I_TziaWj"
      },
      "source": [
        "#### 39. Create a vector of size 10 with values ranging from 0 to 1, both excluded (★★☆) \n",
        "(**hint**: np.linspace)"
      ]
    },
    {
      "cell_type": "code",
      "execution_count": null,
      "metadata": {
        "id": "dc5uMbrBiaWj",
        "colab": {
          "base_uri": "https://localhost:8080/"
        },
        "outputId": "a72a5a8b-a591-4ccf-b2bf-ef28e0302a1d"
      },
      "outputs": [
        {
          "output_type": "stream",
          "name": "stdout",
          "text": [
            "[0.09090909 0.18181818 0.27272727 0.36363636 0.45454545 0.54545455\n",
            " 0.63636364 0.72727273 0.81818182 0.90909091]\n"
          ]
        }
      ],
      "source": [
        "a=np.linspace(0,1,11,endpoint=False)[1:]\n",
        "print(a)"
      ]
    },
    {
      "cell_type": "markdown",
      "metadata": {
        "id": "khmumEcXiaWk"
      },
      "source": [
        "#### 40. Create a random vector of size 10 and sort it (★★☆) \n",
        "(**hint**: sort)"
      ]
    },
    {
      "cell_type": "code",
      "execution_count": null,
      "metadata": {
        "id": "nJ9mx3M0iaWk",
        "colab": {
          "base_uri": "https://localhost:8080/"
        },
        "outputId": "8d7c1698-310a-407b-d4a9-8d36c7b1ef14"
      },
      "outputs": [
        {
          "output_type": "stream",
          "name": "stdout",
          "text": [
            "[0.86404344 0.47751318 0.79377106 0.61046166 0.42346988 0.76568348\n",
            " 0.04669372 0.34613292 0.80512487 0.020477  ]\n"
          ]
        }
      ],
      "source": [
        "a=np.random.random(10)\n",
        "a.sort\n",
        "print(a)"
      ]
    },
    {
      "cell_type": "markdown",
      "metadata": {
        "id": "2Q29DiteiaWk"
      },
      "source": [
        "#### 41. How to sum a small array faster than np.sum? (★★☆) \n",
        "(**hint**: np.add.reduce)"
      ]
    },
    {
      "cell_type": "code",
      "execution_count": null,
      "metadata": {
        "id": "lDpC0xETiaWk",
        "colab": {
          "base_uri": "https://localhost:8080/"
        },
        "outputId": "8f8a238b-7352-4d50-c81c-d3f2383e7510"
      },
      "outputs": [
        {
          "output_type": "stream",
          "name": "stdout",
          "text": [
            "45\n"
          ]
        }
      ],
      "source": [
        "a=np.arange(10)\n",
        "print(np.add.reduce(a))"
      ]
    },
    {
      "cell_type": "markdown",
      "metadata": {
        "id": "rsPRQUMWiaWk"
      },
      "source": [
        "#### 42. Consider two random array A and B, check if they are equal (★★☆) \n",
        "(**hint**: np.allclose, np.array\\_equal)"
      ]
    },
    {
      "cell_type": "code",
      "execution_count": null,
      "metadata": {
        "id": "f9wVho12iaWl",
        "colab": {
          "base_uri": "https://localhost:8080/"
        },
        "outputId": "bd823cc1-e7cc-4411-c156-2c5d653c128e"
      },
      "outputs": [
        {
          "output_type": "stream",
          "name": "stdout",
          "text": [
            "False\n",
            "False\n"
          ]
        }
      ],
      "source": [
        "A=np.random.randint(3)\n",
        "B=np.random.randint(3)\n",
        "print(np.allclose(A,B))\n",
        "print(np.array_equal(A,B))"
      ]
    },
    {
      "cell_type": "markdown",
      "metadata": {
        "id": "co7KQz2viaWl"
      },
      "source": [
        "#### 43. Make an array immutable (read-only) (★★☆) \n",
        "(**hint**: flags.writeable)"
      ]
    },
    {
      "cell_type": "code",
      "execution_count": null,
      "metadata": {
        "id": "hSPDRRKTiaWl",
        "colab": {
          "base_uri": "https://localhost:8080/",
          "height": 201
        },
        "outputId": "68b42b7f-8888-40b5-a020-2bebf20135ce"
      },
      "outputs": [
        {
          "output_type": "error",
          "ename": "ValueError",
          "evalue": "ignored",
          "traceback": [
            "\u001b[0;31m---------------------------------------------------------------------------\u001b[0m",
            "\u001b[0;31mValueError\u001b[0m                                Traceback (most recent call last)",
            "\u001b[0;32m<ipython-input-51-8a05c3cff078>\u001b[0m in \u001b[0;36m<module>\u001b[0;34m()\u001b[0m\n\u001b[1;32m      1\u001b[0m \u001b[0marray\u001b[0m\u001b[0;34m=\u001b[0m\u001b[0mnp\u001b[0m\u001b[0;34m.\u001b[0m\u001b[0mzeros\u001b[0m\u001b[0;34m(\u001b[0m\u001b[0;36m10\u001b[0m\u001b[0;34m)\u001b[0m\u001b[0;34m\u001b[0m\u001b[0;34m\u001b[0m\u001b[0m\n\u001b[1;32m      2\u001b[0m \u001b[0marray\u001b[0m\u001b[0;34m.\u001b[0m\u001b[0mflags\u001b[0m\u001b[0;34m.\u001b[0m\u001b[0mwriteable\u001b[0m\u001b[0;34m=\u001b[0m\u001b[0;32mFalse\u001b[0m\u001b[0;34m\u001b[0m\u001b[0;34m\u001b[0m\u001b[0m\n\u001b[0;32m----> 3\u001b[0;31m \u001b[0marray\u001b[0m\u001b[0;34m[\u001b[0m\u001b[0;36m0\u001b[0m\u001b[0;34m]\u001b[0m\u001b[0;34m=\u001b[0m\u001b[0;36m1\u001b[0m\u001b[0;34m\u001b[0m\u001b[0;34m\u001b[0m\u001b[0m\n\u001b[0m",
            "\u001b[0;31mValueError\u001b[0m: assignment destination is read-only"
          ]
        }
      ],
      "source": [
        "array=np.zeros(10)\n",
        "array.flags.writeable=False   #immutable\n",
        "array[0]=1"
      ]
    },
    {
      "cell_type": "markdown",
      "metadata": {
        "id": "XFJzDJFsiaWl"
      },
      "source": [
        "#### 44. Consider a random 10x2 matrix representing cartesian coordinates, convert them to polar coordinates (★★☆) \n",
        "(**hint**: np.sqrt, np.arctan2)"
      ]
    },
    {
      "cell_type": "code",
      "execution_count": null,
      "metadata": {
        "id": "CffvepQ5iaWm",
        "colab": {
          "base_uri": "https://localhost:8080/"
        },
        "outputId": "85d4e51e-a646-4066-f3a8-a958cc7e4c81"
      },
      "outputs": [
        {
          "output_type": "stream",
          "name": "stdout",
          "text": [
            "[0.7635155  0.50229567 0.31344981 0.79584242 0.85902726 0.55265864\n",
            " 0.82830768 0.98723956 0.87766322 1.10187383]\n",
            "[1.54525272 0.12489771 1.54028927 0.0260035  0.48673992 0.37450055\n",
            " 0.94377355 0.49519273 1.47399757 1.1303677 ]\n"
          ]
        }
      ],
      "source": [
        "matrix=np.random.random((10,2))\n",
        "x,y=matrix[:,0] ,matrix[:,1]\n",
        "print(np.sqrt(x**2+y**2))\n",
        "print(np.arctan2(y,x))"
      ]
    },
    {
      "cell_type": "markdown",
      "metadata": {
        "id": "A_45DyQtiaWm"
      },
      "source": [
        "#### 45. Create random vector of size 10 and replace the maximum value by 0 (★★☆) \n",
        "(**hint**: argmax)"
      ]
    },
    {
      "cell_type": "code",
      "source": [
        "a=np.random.random(10)\n",
        "a[a.argmax()]=0\n",
        "print(a)"
      ],
      "metadata": {
        "colab": {
          "base_uri": "https://localhost:8080/"
        },
        "id": "9PmvDDO6O-qD",
        "outputId": "2790382c-5403-4e6d-c184-9f487ce5d24d"
      },
      "execution_count": null,
      "outputs": [
        {
          "output_type": "stream",
          "name": "stdout",
          "text": [
            "[0.0641997  0.64378139 0.49415764 0.35739309 0.45856235 0.49723725\n",
            " 0.4357551  0.60175071 0.         0.57439618]\n"
          ]
        }
      ]
    },
    {
      "cell_type": "markdown",
      "metadata": {
        "id": "V0f-ywOQiaWm"
      },
      "source": [
        "#### 46. Create a structured array with `x` and `y` coordinates covering the \\[0,1\\]x\\[0,1\\] area (★★☆) \n",
        "(**hint**: np.meshgrid)"
      ]
    },
    {
      "cell_type": "code",
      "execution_count": null,
      "metadata": {
        "id": "rn0zFAMliaWm",
        "colab": {
          "base_uri": "https://localhost:8080/"
        },
        "outputId": "fefe7d27-d235-4592-9783-168f2379bc00"
      },
      "outputs": [
        {
          "output_type": "stream",
          "name": "stdout",
          "text": [
            "[[(0.  , 0.  ) (0.25, 0.  ) (0.5 , 0.  ) (0.75, 0.  ) (1.  , 0.  )]\n",
            " [(0.  , 0.25) (0.25, 0.25) (0.5 , 0.25) (0.75, 0.25) (1.  , 0.25)]\n",
            " [(0.  , 0.5 ) (0.25, 0.5 ) (0.5 , 0.5 ) (0.75, 0.5 ) (1.  , 0.5 )]\n",
            " [(0.  , 0.75) (0.25, 0.75) (0.5 , 0.75) (0.75, 0.75) (1.  , 0.75)]\n",
            " [(0.  , 1.  ) (0.25, 1.  ) (0.5 , 1.  ) (0.75, 1.  ) (1.  , 1.  )]]\n"
          ]
        }
      ],
      "source": [
        "Z= np.zeros((5,5), [('x',float),('y',float)])\n",
        "Z['x'], Z['y'] = np.meshgrid(np.linspace(0,1,5),\n",
        "                             np.linspace(0,1,5))\n",
        "print(Z)"
      ]
    },
    {
      "cell_type": "markdown",
      "metadata": {
        "id": "AejSYFlwiaWn"
      },
      "source": [
        "####  47. Given two arrays, X and Y, construct the Cauchy matrix C (Cij =1/(xi - yj)) \n",
        "(**hint**: np.subtract.outer)"
      ]
    },
    {
      "cell_type": "code",
      "execution_count": null,
      "metadata": {
        "id": "vzvf2RxtiaWn",
        "colab": {
          "base_uri": "https://localhost:8080/"
        },
        "outputId": "02f3cef1-594d-41dc-fce2-98ef92cf8a61"
      },
      "outputs": [
        {
          "output_type": "stream",
          "name": "stdout",
          "text": [
            "3638.1636371179666\n"
          ]
        }
      ],
      "source": [
        "X = np.arange(8)\n",
        "Y = X + 0.5\n",
        "C = 1.0 / np.subtract.outer(X, Y)\n",
        "print(np.linalg.det(C))"
      ]
    },
    {
      "cell_type": "markdown",
      "metadata": {
        "id": "9KBuNDYjiaWn"
      },
      "source": [
        "#### 48. Print the minimum and maximum representable value for each numpy scalar type (★★☆) \n",
        "(**hint**: np.iinfo, np.finfo, eps)"
      ]
    },
    {
      "cell_type": "code",
      "execution_count": null,
      "metadata": {
        "id": "6W6lhoimiaWn",
        "colab": {
          "base_uri": "https://localhost:8080/"
        },
        "outputId": "78a88e85-868e-4d4b-f9ea-5497df8bc445"
      },
      "outputs": [
        {
          "output_type": "stream",
          "name": "stdout",
          "text": [
            "-128\n",
            "127\n",
            "-2147483648\n",
            "2147483647\n",
            "-9223372036854775808\n",
            "9223372036854775807\n",
            "-3.4028235e+38\n",
            "3.4028235e+38\n",
            "1.1920929e-07\n",
            "-1.7976931348623157e+308\n",
            "1.7976931348623157e+308\n",
            "2.220446049250313e-16\n"
          ]
        }
      ],
      "source": [
        "for dtype in [np.int8, np.int32, np.int64]:\n",
        "   print(np.iinfo(dtype).min)\n",
        "   print(np.iinfo(dtype).max)\n",
        "for dtype in [np.float32, np.float64]:\n",
        "   print(np.finfo(dtype).min)\n",
        "   print(np.finfo(dtype).max)\n",
        "   print(np.finfo(dtype).eps)"
      ]
    },
    {
      "cell_type": "markdown",
      "metadata": {
        "id": "rvkuae-9iaWo"
      },
      "source": [
        "#### 49. How to print all the values of an array? (★★☆) \n",
        "(**hint**: np.set\\_printoptions)"
      ]
    },
    {
      "cell_type": "code",
      "execution_count": null,
      "metadata": {
        "id": "U6Z3eZTOiaWo",
        "colab": {
          "base_uri": "https://localhost:8080/"
        },
        "outputId": "5332e2ff-beb9-41bc-e332-0f4707a43620"
      },
      "outputs": [
        {
          "output_type": "stream",
          "name": "stdout",
          "text": [
            "[[0. 0. 0. 0. 0. 0. 0. 0. 0. 0. 0. 0. 0. 0. 0. 0.]\n",
            " [0. 0. 0. 0. 0. 0. 0. 0. 0. 0. 0. 0. 0. 0. 0. 0.]\n",
            " [0. 0. 0. 0. 0. 0. 0. 0. 0. 0. 0. 0. 0. 0. 0. 0.]\n",
            " [0. 0. 0. 0. 0. 0. 0. 0. 0. 0. 0. 0. 0. 0. 0. 0.]\n",
            " [0. 0. 0. 0. 0. 0. 0. 0. 0. 0. 0. 0. 0. 0. 0. 0.]\n",
            " [0. 0. 0. 0. 0. 0. 0. 0. 0. 0. 0. 0. 0. 0. 0. 0.]\n",
            " [0. 0. 0. 0. 0. 0. 0. 0. 0. 0. 0. 0. 0. 0. 0. 0.]\n",
            " [0. 0. 0. 0. 0. 0. 0. 0. 0. 0. 0. 0. 0. 0. 0. 0.]\n",
            " [0. 0. 0. 0. 0. 0. 0. 0. 0. 0. 0. 0. 0. 0. 0. 0.]\n",
            " [0. 0. 0. 0. 0. 0. 0. 0. 0. 0. 0. 0. 0. 0. 0. 0.]\n",
            " [0. 0. 0. 0. 0. 0. 0. 0. 0. 0. 0. 0. 0. 0. 0. 0.]\n",
            " [0. 0. 0. 0. 0. 0. 0. 0. 0. 0. 0. 0. 0. 0. 0. 0.]\n",
            " [0. 0. 0. 0. 0. 0. 0. 0. 0. 0. 0. 0. 0. 0. 0. 0.]\n",
            " [0. 0. 0. 0. 0. 0. 0. 0. 0. 0. 0. 0. 0. 0. 0. 0.]\n",
            " [0. 0. 0. 0. 0. 0. 0. 0. 0. 0. 0. 0. 0. 0. 0. 0.]\n",
            " [0. 0. 0. 0. 0. 0. 0. 0. 0. 0. 0. 0. 0. 0. 0. 0.]]\n"
          ]
        }
      ],
      "source": [
        "np.set_printoptions(threshold=float('inf'))\n",
        "Z = np.zeros((16,16))\n",
        "print(Z)"
      ]
    },
    {
      "cell_type": "markdown",
      "metadata": {
        "id": "-8luA1rYiaWo"
      },
      "source": [
        "#### 50. How to find the closest value (to a given scalar) in a vector? (★★☆) \n",
        "(**hint**: argmin)"
      ]
    },
    {
      "cell_type": "code",
      "execution_count": null,
      "metadata": {
        "id": "G6vP8bcuiaWo",
        "colab": {
          "base_uri": "https://localhost:8080/"
        },
        "outputId": "883f96df-835d-4801-cce3-894d8b7b56b3"
      },
      "outputs": [
        {
          "output_type": "stream",
          "name": "stdout",
          "text": [
            "46\n"
          ]
        }
      ],
      "source": [
        "a=np.arange(100)\n",
        "v=np.random.uniform(0,100)\n",
        "index = (np.abs(a-v)).argmin()\n",
        "print(a[index])"
      ]
    },
    {
      "cell_type": "markdown",
      "metadata": {
        "id": "s9DD7SEsiaWo"
      },
      "source": [
        "#### 51. Create a structured array representing a position (x,y) and a color (r,g,b) (★★☆) \n",
        "(**hint**: dtype)"
      ]
    },
    {
      "cell_type": "code",
      "execution_count": null,
      "metadata": {
        "id": "vYqoZ7uLiaWp",
        "colab": {
          "base_uri": "https://localhost:8080/"
        },
        "outputId": "8ffe55db-a32f-4987-ed16-70b5b5483a4c"
      },
      "outputs": [
        {
          "output_type": "stream",
          "name": "stdout",
          "text": [
            "[((0., 0.), (0., 0., 0.)) ((0., 0.), (0., 0., 0.))\n",
            " ((0., 0.), (0., 0., 0.)) ((0., 0.), (0., 0., 0.))\n",
            " ((0., 0.), (0., 0., 0.)) ((0., 0.), (0., 0., 0.))\n",
            " ((0., 0.), (0., 0., 0.)) ((0., 0.), (0., 0., 0.))\n",
            " ((0., 0.), (0., 0., 0.)) ((0., 0.), (0., 0., 0.))]\n"
          ]
        },
        {
          "output_type": "stream",
          "name": "stderr",
          "text": [
            "/usr/local/lib/python3.7/dist-packages/ipykernel_launcher.py:5: FutureWarning: Passing (type, 1) or '1type' as a synonym of type is deprecated; in a future version of numpy, it will be understood as (type, (1,)) / '(1,)type'.\n",
            "  \"\"\"\n"
          ]
        }
      ],
      "source": [
        "a=np.zeros(10, [ ('position', [ ('x', float, 1),\n",
        "                                  ('y', float, 1)]),\n",
        "                   ('color',    [ ('r', float, 1),\n",
        "                                  ('g', float, 1),\n",
        "                                  ('b', float, 1)])])\n",
        "print(a)"
      ]
    },
    {
      "cell_type": "markdown",
      "metadata": {
        "id": "VgukrSB8iaWp"
      },
      "source": [
        "#### 52. Consider a random vector with shape (100,2) representing coordinates, find point by point distances (★★☆) \n",
        "(**hint**: np.atleast\\_2d, T, np.sqrt)"
      ]
    },
    {
      "cell_type": "code",
      "execution_count": null,
      "metadata": {
        "id": "3OCclo2SiaWp",
        "colab": {
          "base_uri": "https://localhost:8080/"
        },
        "outputId": "e7cffc66-5efe-4e23-90a7-4741c937d976"
      },
      "outputs": [
        {
          "output_type": "stream",
          "name": "stdout",
          "text": [
            "[[0.         0.44234448 0.57478532 0.39805909 0.29731284 0.47130227\n",
            "  0.35179922 0.3835016  0.243672   0.23960618]\n",
            " [0.44234448 0.         0.72447948 0.34754421 0.25135926 0.17611017\n",
            "  0.27904754 0.73357385 0.37141124 0.37169592]\n",
            " [0.57478532 0.72447948 0.         0.91151719 0.48222138 0.86816203\n",
            "  0.44543344 0.91567141 0.39270032 0.7866989 ]\n",
            " [0.39805909 0.34754421 0.91151719 0.         0.45978603 0.21211895\n",
            "  0.52005229 0.484845   0.51961655 0.16518373]\n",
            " [0.29731284 0.25135926 0.48222138 0.45978603 0.         0.3860632\n",
            "  0.06476478 0.66856078 0.12499909 0.38202571]\n",
            " [0.47130227 0.17611017 0.86816203 0.21211895 0.3860632  0.\n",
            "  0.43039072 0.67225778 0.4876441  0.3083319 ]\n",
            " [0.35179922 0.27904754 0.44543344 0.52005229 0.06476478 0.43039072\n",
            "  0.         0.72838169 0.14174035 0.44672016]\n",
            " [0.3835016  0.73357385 0.91567141 0.484845   0.66856078 0.67225778\n",
            "  0.72838169 0.         0.6270576  0.36826011]\n",
            " [0.243672   0.37141124 0.39270032 0.51961655 0.12499909 0.4876441\n",
            "  0.14174035 0.6270576  0.         0.405934  ]\n",
            " [0.23960618 0.37169592 0.7866989  0.16518373 0.38202571 0.3083319\n",
            "  0.44672016 0.36826011 0.405934   0.        ]]\n",
            "[[0.         0.75771895 0.43686736 0.39907127 0.89170007 0.71830676\n",
            "  0.55718102 0.28987573 0.10607302 0.64366901]\n",
            " [0.75771895 0.         0.33131663 0.3587958  0.68427212 0.78680133\n",
            "  0.23833826 0.52913519 0.77831652 0.14823313]\n",
            " [0.43686736 0.33131663 0.         0.07758757 0.74498017 0.72046286\n",
            "  0.12331786 0.27846206 0.44785204 0.25411816]\n",
            " [0.39907127 0.3587958  0.07758757 0.         0.68554619 0.64613411\n",
            "  0.18830033 0.20478148 0.42757345 0.25166799]\n",
            " [0.89170007 0.68427212 0.74498017 0.68554619 0.         0.28424824\n",
            "  0.77595136 0.62159911 0.98092755 0.57908091]\n",
            " [0.71830676 0.78680133 0.72046286 0.64613411 0.28424824 0.\n",
            "  0.79321164 0.50382825 0.8196643  0.64887499]\n",
            " [0.55718102 0.23833826 0.12331786 0.18830033 0.77595136 0.79321164\n",
            "  0.         0.39277034 0.55970649 0.21719809]\n",
            " [0.28987573 0.52913519 0.27846206 0.20478148 0.62159911 0.50382825\n",
            "  0.39277034 0.         0.36473167 0.39287266]\n",
            " [0.10607302 0.77831652 0.44785204 0.42757345 0.98092755 0.8196643\n",
            "  0.55970649 0.36473167 0.         0.67900145]\n",
            " [0.64366901 0.14823313 0.25411816 0.25166799 0.57908091 0.64887499\n",
            "  0.21719809 0.39287266 0.67900145 0.        ]]\n"
          ]
        }
      ],
      "source": [
        "Z = np.random.random((10,2))\n",
        "X,Y = np.atleast_2d(Z[:,0], Z[:,1])\n",
        "D = np.sqrt( (X-X.T)**2 + (Y-Y.T)**2)\n",
        "print(D)\n",
        "import scipy\n",
        "import scipy.spatial\n",
        "Z = np.random.random((10,2))\n",
        "D = scipy.spatial.distance.cdist(Z,Z)\n",
        "print(D)"
      ]
    },
    {
      "cell_type": "markdown",
      "metadata": {
        "id": "O4flq8R1iaWq"
      },
      "source": [
        "#### 53. How to convert a float (32 bits) array into an integer (32 bits) in place? \n",
        "(**hint**: astype(copy=False))"
      ]
    },
    {
      "cell_type": "code",
      "execution_count": null,
      "metadata": {
        "id": "Hfjq9a5-iaWq",
        "colab": {
          "base_uri": "https://localhost:8080/"
        },
        "outputId": "273ae4e8-0762-4ec5-e3c6-e902f5028851"
      },
      "outputs": [
        {
          "output_type": "stream",
          "name": "stdout",
          "text": [
            "[0 1 2 3 4 5 6 7 8 9]\n"
          ]
        }
      ],
      "source": [
        "a=np.arange(10,dtype=np.float32)\n",
        "a=a.astype(np.int32,copy=False)\n",
        "print(a)"
      ]
    },
    {
      "cell_type": "markdown",
      "metadata": {
        "id": "9mg_cqH6iaWq"
      },
      "source": [
        "#### 54. How to read the following file? (★★☆) \n",
        "(**hint**: np.genfromtxt)"
      ]
    },
    {
      "cell_type": "markdown",
      "metadata": {
        "id": "rBlBAxcniaWq"
      },
      "source": [
        "```\n",
        "1, 2, 3, 4, 5\n",
        "6,  ,  , 7, 8\n",
        " ,  , 9,10,11\n",
        "```"
      ]
    },
    {
      "cell_type": "code",
      "execution_count": null,
      "metadata": {
        "id": "D905ntUWiaWr",
        "colab": {
          "base_uri": "https://localhost:8080/"
        },
        "outputId": "544b1b8c-b70f-43e2-821a-d14d8c5a5e6c"
      },
      "outputs": [
        {
          "output_type": "stream",
          "name": "stdout",
          "text": [
            "[[ 1  2  3  4  5]\n",
            " [ 6 -1 -1  7  8]\n",
            " [-1 -1  9 10 11]]\n"
          ]
        }
      ],
      "source": [
        "from io import StringIO\n",
        "s=StringIO(\"\"\"1, 2, 3, 4, 5\\n\n",
        "           6,  ,  , 7, 8\\n\n",
        "           ,  , 9,10,11\\n\"\"\")\n",
        "print(np.genfromtxt(s, delimiter=\",\", dtype=np.int))"
      ]
    },
    {
      "cell_type": "markdown",
      "metadata": {
        "id": "6uh3dlPOiaWr"
      },
      "source": [
        "#### 55. What is the equivalent of enumerate for numpy arrays? (★★☆) \n",
        "(**hint**: np.ndenumerate, np.ndindex)"
      ]
    },
    {
      "cell_type": "code",
      "execution_count": null,
      "metadata": {
        "id": "ub6vHzCciaWr",
        "colab": {
          "base_uri": "https://localhost:8080/"
        },
        "outputId": "97321e75-5629-4f13-a37c-e1c5a5df77f8"
      },
      "outputs": [
        {
          "output_type": "stream",
          "name": "stdout",
          "text": [
            "(0, 0) 0\n",
            "(0, 1) 1\n",
            "(0, 2) 2\n",
            "(1, 0) 3\n",
            "(1, 1) 4\n",
            "(1, 2) 5\n",
            "(2, 0) 6\n",
            "(2, 1) 7\n",
            "(2, 2) 8\n",
            "(0, 0) 0\n",
            "(0, 1) 1\n",
            "(0, 2) 2\n",
            "(1, 0) 3\n",
            "(1, 1) 4\n",
            "(1, 2) 5\n",
            "(2, 0) 6\n",
            "(2, 1) 7\n",
            "(2, 2) 8\n"
          ]
        }
      ],
      "source": [
        "Z= np.arange(9).reshape(3,3)\n",
        "for index, value in np.ndenumerate(Z):\n",
        "    print(index, value)\n",
        "for index in np.ndindex(Z.shape):\n",
        "    print(index, Z[index])"
      ]
    },
    {
      "cell_type": "markdown",
      "metadata": {
        "id": "ZbTBmPV6iaWr"
      },
      "source": [
        "#### 56. Generate a generic 2D Gaussian-like array (★★☆) \n",
        "(**hint**: np.meshgrid, np.exp)"
      ]
    },
    {
      "cell_type": "code",
      "execution_count": null,
      "metadata": {
        "id": "9EFW3yY5iaWr",
        "colab": {
          "base_uri": "https://localhost:8080/"
        },
        "outputId": "c655bd1c-f2ba-443c-da43-5ef41e0cb46b"
      },
      "outputs": [
        {
          "output_type": "stream",
          "name": "stdout",
          "text": [
            "[[0.36787944 0.44822088 0.51979489 0.57375342 0.60279818 0.60279818\n",
            "  0.57375342 0.51979489 0.44822088 0.36787944]\n",
            " [0.44822088 0.54610814 0.63331324 0.69905581 0.73444367 0.73444367\n",
            "  0.69905581 0.63331324 0.54610814 0.44822088]\n",
            " [0.51979489 0.63331324 0.73444367 0.81068432 0.85172308 0.85172308\n",
            "  0.81068432 0.73444367 0.63331324 0.51979489]\n",
            " [0.57375342 0.69905581 0.81068432 0.89483932 0.9401382  0.9401382\n",
            "  0.89483932 0.81068432 0.69905581 0.57375342]\n",
            " [0.60279818 0.73444367 0.85172308 0.9401382  0.98773022 0.98773022\n",
            "  0.9401382  0.85172308 0.73444367 0.60279818]\n",
            " [0.60279818 0.73444367 0.85172308 0.9401382  0.98773022 0.98773022\n",
            "  0.9401382  0.85172308 0.73444367 0.60279818]\n",
            " [0.57375342 0.69905581 0.81068432 0.89483932 0.9401382  0.9401382\n",
            "  0.89483932 0.81068432 0.69905581 0.57375342]\n",
            " [0.51979489 0.63331324 0.73444367 0.81068432 0.85172308 0.85172308\n",
            "  0.81068432 0.73444367 0.63331324 0.51979489]\n",
            " [0.44822088 0.54610814 0.63331324 0.69905581 0.73444367 0.73444367\n",
            "  0.69905581 0.63331324 0.54610814 0.44822088]\n",
            " [0.36787944 0.44822088 0.51979489 0.57375342 0.60279818 0.60279818\n",
            "  0.57375342 0.51979489 0.44822088 0.36787944]]\n"
          ]
        }
      ],
      "source": [
        "import numpy as np\n",
        "X, Y = np.meshgrid(np.linspace(-1,1,10), np.linspace(-1,1,10))\n",
        "D = np.sqrt(X*X+Y*Y)\n",
        "sigma, mu = 1.0, 0.0\n",
        "G = np.exp(-( (D-mu)**2 / ( 2.0 * sigma**2 ) ) )\n",
        "print(G)"
      ]
    },
    {
      "cell_type": "markdown",
      "metadata": {
        "id": "Ru0_a6bEiaWs"
      },
      "source": [
        "#### 57. How to randomly place p elements in a 2D array? (★★☆) \n",
        "(**hint**: np.put, np.random.choice)"
      ]
    },
    {
      "cell_type": "code",
      "execution_count": null,
      "metadata": {
        "id": "PT_E3ZRqiaWs",
        "colab": {
          "base_uri": "https://localhost:8080/"
        },
        "outputId": "2b120619-0a06-4b69-e267-7780ee78aa89"
      },
      "outputs": [
        {
          "output_type": "stream",
          "name": "stdout",
          "text": [
            "[[0. 1. 0. 0. 0. 0. 0. 0. 0. 0.]\n",
            " [0. 0. 0. 0. 0. 0. 0. 0. 0. 0.]\n",
            " [0. 0. 0. 0. 0. 0. 0. 0. 0. 0.]\n",
            " [1. 0. 0. 0. 0. 0. 0. 0. 0. 0.]\n",
            " [0. 0. 0. 0. 0. 0. 0. 0. 0. 0.]\n",
            " [0. 0. 0. 0. 0. 0. 0. 0. 0. 1.]\n",
            " [0. 0. 0. 0. 0. 0. 0. 0. 0. 0.]\n",
            " [0. 0. 0. 0. 0. 0. 0. 0. 0. 0.]\n",
            " [0. 0. 0. 0. 0. 0. 0. 0. 0. 0.]\n",
            " [0. 0. 0. 0. 0. 0. 0. 0. 0. 0.]]\n"
          ]
        }
      ],
      "source": [
        "p = 3\n",
        "Z = np.zeros((10,10))\n",
        "np.put(Z, np.random.choice(range(10*10), p, replace=False),1)\n",
        "print(Z)"
      ]
    },
    {
      "cell_type": "markdown",
      "metadata": {
        "id": "ua3RYvcviaWs"
      },
      "source": [
        "#### 58. Subtract the mean of each row of a matrix (★★☆) \n",
        "(**hint**: mean(axis=,keepdims=))"
      ]
    },
    {
      "cell_type": "code",
      "execution_count": null,
      "metadata": {
        "id": "kAIOm_JpiaWs",
        "colab": {
          "base_uri": "https://localhost:8080/"
        },
        "outputId": "cfc3e111-0566-4cce-dfea-b515adb603db"
      },
      "outputs": [
        {
          "output_type": "stream",
          "name": "stdout",
          "text": [
            "[[ 0.00423417 -0.01877163 -0.32329452  0.28947923  0.04401226  0.03149184\n",
            "   0.20052467 -0.32746345  0.46250713 -0.36271969]\n",
            " [ 0.01563939  0.09403525  0.09223405 -0.1369972   0.07071871  0.05002532\n",
            "  -0.18976408  0.15282745  0.10986086 -0.25857976]\n",
            " [ 0.01859764  0.35391963 -0.39494538 -0.39577617  0.05375717  0.46286427\n",
            "   0.05536221  0.25120825 -0.35612864 -0.04885897]\n",
            " [ 0.14579172  0.13639439  0.37227088  0.41226981 -0.34246815  0.18658335\n",
            "  -0.22547222 -0.3143088  -0.0769637  -0.29409729]\n",
            " [-0.01393721 -0.48673617  0.13618142  0.05552676 -0.10154326  0.18503145\n",
            "   0.00601504 -0.38460815  0.22178267  0.38228746]]\n"
          ]
        }
      ],
      "source": [
        "X = np.random.rand(5, 10)\n",
        "Y = X - X.mean(axis=1, keepdims=True)\n",
        "Y = X - X.mean(axis=1).reshape(-1, 1)\n",
        "print(Y)"
      ]
    },
    {
      "cell_type": "markdown",
      "metadata": {
        "id": "0dPIBD9qiaWt"
      },
      "source": [
        "#### 59. How to sort an array by the nth column? (★★☆) \n",
        "(**hint**: argsort)"
      ]
    },
    {
      "cell_type": "code",
      "execution_count": null,
      "metadata": {
        "id": "F5IJAvBhiaWt",
        "colab": {
          "base_uri": "https://localhost:8080/"
        },
        "outputId": "a04f4ace-0a02-4926-c412-75b1ffb43439"
      },
      "outputs": [
        {
          "output_type": "stream",
          "name": "stdout",
          "text": [
            "[[8 8 5]\n",
            " [2 5 3]\n",
            " [6 3 7]]\n",
            "[[6 3 7]\n",
            " [2 5 3]\n",
            " [8 8 5]]\n"
          ]
        }
      ],
      "source": [
        "ARRAY= np.random.randint(0,10,(3,3))\n",
        "print(ARRAY)\n",
        "print(ARRAY[ARRAY[:,1].argsort()])"
      ]
    },
    {
      "cell_type": "markdown",
      "metadata": {
        "id": "IN85F_GpiaWt"
      },
      "source": [
        "#### 60. How to tell if a given 2D array has null columns? (★★☆) \n",
        "(**hint**: any, ~)"
      ]
    },
    {
      "cell_type": "code",
      "execution_count": null,
      "metadata": {
        "id": "mxS5VTk1iaWt",
        "colab": {
          "base_uri": "https://localhost:8080/"
        },
        "outputId": "8b4d2951-c8be-49ef-ba6c-c74543fcbd3d"
      },
      "outputs": [
        {
          "output_type": "stream",
          "name": "stdout",
          "text": [
            "False\n"
          ]
        }
      ],
      "source": [
        "ARRAY = np.random.randint(0,3,(3,10))\n",
        "print((~ARRAY.any(axis=0)).any())"
      ]
    },
    {
      "cell_type": "markdown",
      "metadata": {
        "id": "zBvZNPZKiaWu"
      },
      "source": [
        "#### 61. Find the nearest value from a given value in an array (★★☆) \n",
        "(**hint**: np.abs, argmin, flat)"
      ]
    },
    {
      "cell_type": "code",
      "execution_count": null,
      "metadata": {
        "id": "C3aP02cXiaWu",
        "colab": {
          "base_uri": "https://localhost:8080/"
        },
        "outputId": "06997b1a-75a0-41f7-cc05-91e3b331c8ed"
      },
      "outputs": [
        {
          "output_type": "stream",
          "name": "stdout",
          "text": [
            "0.4789137888512489\n"
          ]
        }
      ],
      "source": [
        "Z = np.random.uniform(0,1,10)\n",
        "z = 0.5\n",
        "m = Z.flat[np.abs(Z - z).argmin()]\n",
        "print(m)"
      ]
    },
    {
      "cell_type": "markdown",
      "metadata": {
        "id": "VILwYCpxiaWu"
      },
      "source": [
        "#### 62. Considering two arrays with shape (1,3) and (3,1), how to compute their sum using an iterator? (★★☆) \n",
        "(**hint**: np.nditer)"
      ]
    },
    {
      "cell_type": "code",
      "execution_count": null,
      "metadata": {
        "id": "w3_8HHEPiaWu",
        "colab": {
          "base_uri": "https://localhost:8080/"
        },
        "outputId": "e10efda4-dc69-4346-f3ee-89033e32331f"
      },
      "outputs": [
        {
          "output_type": "stream",
          "name": "stdout",
          "text": [
            "[[0 1 2]\n",
            " [1 2 3]\n",
            " [2 3 4]]\n"
          ]
        }
      ],
      "source": [
        "A = np.arange(3).reshape(3,1)\n",
        "B = np.arange(3).reshape(1,3)\n",
        "it = np.nditer([A,B,None])\n",
        "for x,y,z in it: z[...] = x + y\n",
        "print(it.operands[2])"
      ]
    },
    {
      "cell_type": "markdown",
      "metadata": {
        "id": "iuSRq9FPiaWu"
      },
      "source": [
        "#### 63. Create an array class that has a name attribute (★★☆) \n",
        "(**hint**: class method)"
      ]
    },
    {
      "cell_type": "code",
      "execution_count": null,
      "metadata": {
        "id": "hLHOXPOQiaWv",
        "colab": {
          "base_uri": "https://localhost:8080/"
        },
        "outputId": "c83f66a0-d112-4b2b-ffdb-fa59fd10cf4a"
      },
      "outputs": [
        {
          "output_type": "stream",
          "name": "stdout",
          "text": [
            "range_10\n"
          ]
        }
      ],
      "source": [
        "class NamedArray(np.ndarray):\n",
        "    def __new__(cls, array, name=\"no name\"):\n",
        "        obj = np.asarray(array).view(cls)\n",
        "        obj.name = name\n",
        "        return obj\n",
        "    def __array_finalize__(self, obj):\n",
        "        if obj is None: return\n",
        "        self.info = getattr(obj, 'name', \"no name\")\n",
        "\n",
        "Z = NamedArray(np.arange(10), \"range_10\")\n",
        "print (Z.name)"
      ]
    },
    {
      "cell_type": "markdown",
      "metadata": {
        "id": "OzctjNrDiaWv"
      },
      "source": [
        "#### 64. Consider a given vector, how to add 1 to each element indexed by a second vector (be careful with repeated indices)? (★★★) \n",
        "(**hint**: np.bincount | np.add.at)"
      ]
    },
    {
      "cell_type": "code",
      "execution_count": null,
      "metadata": {
        "id": "TfKo5MXEiaWv",
        "colab": {
          "base_uri": "https://localhost:8080/"
        },
        "outputId": "2a09f1bb-1db2-4c8d-eb26-2bb2b556b37b"
      },
      "outputs": [
        {
          "output_type": "stream",
          "name": "stdout",
          "text": [
            "[2. 4. 6. 2. 4. 3. 2. 2. 2. 3.]\n",
            "[ 3.  7. 11.  3.  7.  5.  3.  3.  3.  5.]\n"
          ]
        }
      ],
      "source": [
        "a = np.ones(10)\n",
        "I = np.random.randint(0,len(Z),20)\n",
        "a += np.bincount(I, minlength=len(Z))\n",
        "print(a)\n",
        "np.add.at(a,I,1)\n",
        "print(a)"
      ]
    },
    {
      "cell_type": "markdown",
      "metadata": {
        "id": "F7e9af0IiaWv"
      },
      "source": [
        "#### 65. How to accumulate elements of a vector (X) to an array (F) based on an index list (I)? (★★★) \n",
        "(**hint**: np.bincount)"
      ]
    },
    {
      "cell_type": "code",
      "execution_count": null,
      "metadata": {
        "id": "XqCqKp6miaWw",
        "colab": {
          "base_uri": "https://localhost:8080/"
        },
        "outputId": "0a4328f1-ef0c-4062-e687-62754049370d"
      },
      "outputs": [
        {
          "output_type": "stream",
          "name": "stdout",
          "text": [
            "[0. 7. 0. 6. 5. 0. 0. 0. 0. 3.]\n"
          ]
        }
      ],
      "source": [
        "X = [1,2,3,4,5,6]\n",
        "I = [1,3,9,3,4,1]\n",
        "F = np.bincount(I,X)\n",
        "print(F)"
      ]
    },
    {
      "cell_type": "markdown",
      "metadata": {
        "id": "q-4ZV_afiaWw"
      },
      "source": [
        "#### 66. Considering a (w,h,3) image of (dtype=ubyte), compute the number of unique colors (★★★) \n",
        "(**hint**: np.unique)"
      ]
    },
    {
      "cell_type": "code",
      "execution_count": 2,
      "metadata": {
        "id": "U0OVvGJDiaWw",
        "colab": {
          "base_uri": "https://localhost:8080/"
        },
        "outputId": "2218e570-e119-47a8-e33b-57b371ecf929"
      },
      "outputs": [
        {
          "output_type": "stream",
          "name": "stdout",
          "text": [
            "8\n"
          ]
        }
      ],
      "source": [
        "import numpy as np\n",
        "w,h = 16,16\n",
        "I = np.random.randint(0,2,(w,h,3)).astype(np.ubyte)\n",
        "F = I[...,0]*(256*256) + I[...,1]*256 +I[...,2]\n",
        "n = len(np.unique(F))\n",
        "print(n)"
      ]
    },
    {
      "cell_type": "markdown",
      "metadata": {
        "id": "nCvImJHDiaWw"
      },
      "source": [
        "#### 67. Considering a four dimensions array, how to get sum over the last two axis at once? (★★★) \n",
        "(**hint**: sum(axis=(-2,-1)))"
      ]
    },
    {
      "cell_type": "code",
      "execution_count": null,
      "metadata": {
        "id": "rI8R-T2diaWx",
        "colab": {
          "base_uri": "https://localhost:8080/"
        },
        "outputId": "5e626ba1-1f17-42bf-c85e-8d2da3e1e83e"
      },
      "outputs": [
        {
          "output_type": "stream",
          "name": "stdout",
          "text": [
            "[[64 57 51 48]\n",
            " [60 46 32 46]\n",
            " [61 51 64 51]]\n",
            "[[64 57 51 48]\n",
            " [60 46 32 46]\n",
            " [61 51 64 51]]\n"
          ]
        }
      ],
      "source": [
        "A = np.random.randint(0,10,(3,4,3,4))\n",
        "sum = A.sum(axis=(-2,-1))\n",
        "print(sum)\n",
        "sum = A.reshape(A.shape[:-2] + (-1,)).sum(axis=-1)\n",
        "print(sum)"
      ]
    },
    {
      "cell_type": "markdown",
      "metadata": {
        "id": "tdn2bWPQiaWx"
      },
      "source": [
        "#### 68. Considering a one-dimensional vector D, how to compute means of subsets of D using a vector S of same size describing subset  indices? (★★★) \n",
        "(**hint**: np.bincount)"
      ]
    },
    {
      "cell_type": "code",
      "execution_count": null,
      "metadata": {
        "id": "HVCdJQ2jiaWy",
        "colab": {
          "base_uri": "https://localhost:8080/"
        },
        "outputId": "ff039d81-60f3-4655-c11e-39eecc375ea1"
      },
      "outputs": [
        {
          "output_type": "stream",
          "name": "stdout",
          "text": [
            "[0.5983543  0.51289562 0.26285368 0.58243    0.53491771 0.64399456\n",
            " 0.48163198 0.3627133  0.49739084 0.28694884]\n",
            "0    0.598354\n",
            "1    0.512896\n",
            "2    0.262854\n",
            "3    0.582430\n",
            "4    0.534918\n",
            "5    0.643995\n",
            "6    0.481632\n",
            "7    0.362713\n",
            "8    0.497391\n",
            "9    0.286949\n",
            "dtype: float64\n"
          ]
        }
      ],
      "source": [
        "D = np.random.uniform(0,1,100)\n",
        "S = np.random.randint(0,10,100)\n",
        "D_sums = np.bincount(S, weights=D)\n",
        "D_counts = np.bincount(S)\n",
        "D_means = D_sums / D_counts\n",
        "print(D_means)\n",
        "import pandas as pd\n",
        "print(pd.Series(D).groupby(S).mean())"
      ]
    },
    {
      "cell_type": "markdown",
      "metadata": {
        "id": "UcssAEJjiaWy"
      },
      "source": [
        "#### 69. How to get the diagonal of a dot product? (★★★) \n",
        "(**hint**: np.diag)"
      ]
    },
    {
      "cell_type": "code",
      "execution_count": null,
      "metadata": {
        "id": "13aYKf5riaWz",
        "colab": {
          "base_uri": "https://localhost:8080/"
        },
        "outputId": "fd521c12-b098-4343-d53c-87e4dc9bb6b5"
      },
      "outputs": [
        {
          "output_type": "execute_result",
          "data": {
            "text/plain": [
              "array([2.77792651, 0.38980333, 0.39191239, 1.31179073, 1.60767029])"
            ]
          },
          "metadata": {},
          "execution_count": 24
        }
      ],
      "source": [
        "A = np.random.uniform(0,1,(5,5))\n",
        "B = np.random.uniform(0,1,(5,5))\n",
        "np.diag(np.dot(A, B))\n",
        "np.sum(A * B.T, axis=1)\n",
        "np.einsum(\"ij,ji->i\", A, B)"
      ]
    },
    {
      "cell_type": "markdown",
      "metadata": {
        "id": "ICmfksC6iaWz"
      },
      "source": [
        "#### 70. Consider the vector \\[1, 2, 3, 4, 5\\], how to build a new vector with 3 consecutive zeros interleaved between each value? (★★★) \n",
        "(**hint**: array\\[::4\\])"
      ]
    },
    {
      "cell_type": "code",
      "execution_count": null,
      "metadata": {
        "id": "Phr-2B_riaWz",
        "colab": {
          "base_uri": "https://localhost:8080/"
        },
        "outputId": "3fc6c8ca-ed29-4675-94ca-51940b903be7"
      },
      "outputs": [
        {
          "output_type": "stream",
          "name": "stdout",
          "text": [
            "[1. 0. 0. 0. 2. 0. 0. 0. 3. 0. 0. 0. 4. 0. 0. 0. 5.]\n"
          ]
        }
      ],
      "source": [
        "v=np.array([1,2,3,4,5])\n",
        "nz = 3\n",
        "v0 = np.zeros(len(v) + (len(v)-1)*(nz))\n",
        "v0[::nz+1] = v\n",
        "print(v0)"
      ]
    },
    {
      "cell_type": "markdown",
      "metadata": {
        "id": "bJgMQwHwiaWz"
      },
      "source": [
        "#### 71. Consider an array of dimension (5,5,3), how to mulitply it by an array with dimensions (5,5)? (★★★) \n",
        "(**hint**: array\\[:, :, None\\])"
      ]
    },
    {
      "cell_type": "code",
      "execution_count": null,
      "metadata": {
        "collapsed": true,
        "id": "Clci9RTWiaW0",
        "colab": {
          "base_uri": "https://localhost:8080/"
        },
        "outputId": "77c222be-dd39-4b74-a16b-6e43a5ba2c25"
      },
      "outputs": [
        {
          "output_type": "stream",
          "name": "stdout",
          "text": [
            "[[[2. 2. 2.]\n",
            "  [2. 2. 2.]\n",
            "  [2. 2. 2.]\n",
            "  [2. 2. 2.]\n",
            "  [2. 2. 2.]]\n",
            "\n",
            " [[2. 2. 2.]\n",
            "  [2. 2. 2.]\n",
            "  [2. 2. 2.]\n",
            "  [2. 2. 2.]\n",
            "  [2. 2. 2.]]\n",
            "\n",
            " [[2. 2. 2.]\n",
            "  [2. 2. 2.]\n",
            "  [2. 2. 2.]\n",
            "  [2. 2. 2.]\n",
            "  [2. 2. 2.]]\n",
            "\n",
            " [[2. 2. 2.]\n",
            "  [2. 2. 2.]\n",
            "  [2. 2. 2.]\n",
            "  [2. 2. 2.]\n",
            "  [2. 2. 2.]]\n",
            "\n",
            " [[2. 2. 2.]\n",
            "  [2. 2. 2.]\n",
            "  [2. 2. 2.]\n",
            "  [2. 2. 2.]\n",
            "  [2. 2. 2.]]]\n"
          ]
        }
      ],
      "source": [
        "A = np.ones((5,5,3))\n",
        "B = 2*np.ones((5,5))\n",
        "print(A * B[:,:,None])"
      ]
    },
    {
      "cell_type": "markdown",
      "metadata": {
        "id": "LFDgIojJiaW1"
      },
      "source": [
        "#### 72. How to swap two rows of an array? (★★★) \n",
        "(**hint**: array\\[\\[\\]\\] = array\\[\\[\\]\\])"
      ]
    },
    {
      "cell_type": "code",
      "execution_count": null,
      "metadata": {
        "id": "oVGY2m44iaW2",
        "colab": {
          "base_uri": "https://localhost:8080/"
        },
        "outputId": "1b757496-4063-4e1c-b47a-09ed31d3aa71"
      },
      "outputs": [
        {
          "output_type": "stream",
          "name": "stdout",
          "text": [
            "[[ 5  6  7  8  9]\n",
            " [ 0  1  2  3  4]\n",
            " [10 11 12 13 14]\n",
            " [15 16 17 18 19]\n",
            " [20 21 22 23 24]]\n"
          ]
        }
      ],
      "source": [
        "A = np.arange(25).reshape(5,5)\n",
        "A[[0,1]] = A[[1,0]]\n",
        "print(A)"
      ]
    },
    {
      "cell_type": "markdown",
      "metadata": {
        "id": "3qCyQfXhiaW2"
      },
      "source": [
        "#### 73. Consider a set of 10 triplets describing 10 triangles (with shared vertices), find the set of unique line segments composing all the  triangles (★★★) \n",
        "(**hint**: repeat, np.roll, np.sort, view, np.unique)"
      ]
    },
    {
      "cell_type": "code",
      "execution_count": null,
      "metadata": {
        "id": "PGalFj6DiaW2",
        "colab": {
          "base_uri": "https://localhost:8080/"
        },
        "outputId": "89e14bc0-4745-4f80-9e31-a5ce0a581957"
      },
      "outputs": [
        {
          "output_type": "stream",
          "name": "stdout",
          "text": [
            "[( 1, 31) ( 1, 65) ( 7, 40) ( 7, 60) ( 9, 37) ( 9, 58) (13, 38) (13, 64)\n",
            " (16, 29) (20, 32) (20, 48) (26, 34) (26, 50) (29, 29) (31, 65) (32, 48)\n",
            " (34, 50) (37, 49) (37, 57) (37, 58) (38, 64) (40, 60) (48, 53) (48, 58)\n",
            " (49, 57) (53, 54) (53, 58) (53, 91) (54, 91)]\n"
          ]
        }
      ],
      "source": [
        "faces = np.random.randint(0,100,(10,3))\n",
        "F = np.roll(faces.repeat(2,axis=1),-1,axis=1)\n",
        "F = F.reshape(len(F)*3,2)\n",
        "F = np.sort(F,axis=1)\n",
        "G = F.view( dtype=[('p0',F.dtype),('p1',F.dtype)] )\n",
        "G = np.unique(G)\n",
        "print(G)"
      ]
    },
    {
      "cell_type": "markdown",
      "metadata": {
        "id": "xV5aagD7iaW3"
      },
      "source": [
        "#### 74. Given an array C that is a bincount, how to produce an array A such that np.bincount(A) == C? (★★★) \n",
        "(**hint**: np.repeat)"
      ]
    },
    {
      "cell_type": "code",
      "execution_count": null,
      "metadata": {
        "id": "JO1qnILuiaW3",
        "colab": {
          "base_uri": "https://localhost:8080/"
        },
        "outputId": "45f21fb9-9316-444b-c18b-bd39b1c3dcc4"
      },
      "outputs": [
        {
          "output_type": "stream",
          "name": "stdout",
          "text": [
            "[1 1 2 3 4 4 6]\n"
          ]
        }
      ],
      "source": [
        "C = np.bincount([1,1,2,3,4,4,6])\n",
        "A = np.repeat(np.arange(len(C)), C)\n",
        "print(A)"
      ]
    },
    {
      "cell_type": "markdown",
      "metadata": {
        "id": "4lajvBUwiaW3"
      },
      "source": [
        "#### 75. How to compute averages using a sliding window over an array? (★★★) \n",
        "(**hint**: np.cumsum)"
      ]
    },
    {
      "cell_type": "code",
      "execution_count": null,
      "metadata": {
        "id": "b7m5JFybiaW3",
        "colab": {
          "base_uri": "https://localhost:8080/"
        },
        "outputId": "1241148a-905e-4418-d7c6-e71baab1f27f"
      },
      "outputs": [
        {
          "output_type": "stream",
          "name": "stdout",
          "text": [
            "[ 1.  2.  3.  4.  5.  6.  7.  8.  9. 10. 11. 12. 13. 14. 15. 16. 17. 18.]\n"
          ]
        }
      ],
      "source": [
        "def moving_average(a, n=3) :\n",
        "    ret = np.cumsum(a, dtype=float)\n",
        "    ret[n:] = ret[n:] - ret[:-n]\n",
        "    return ret[n - 1:] / n\n",
        "Z = np.arange(20)\n",
        "print(moving_average(Z, n=3))"
      ]
    },
    {
      "cell_type": "markdown",
      "metadata": {
        "id": "J0Prb9FhiaW3"
      },
      "source": [
        "#### 76. Consider a one-dimensional array Z, build a two-dimensional array whose first row is (Z\\[0\\],Z\\[1\\],Z\\[2\\]) and each subsequent row is  shifted by 1 (last row should be (Z\\[-3\\],Z\\[-2\\],Z\\[-1\\]) (★★★) \n",
        "(**hint**: from numpy.lib import stride_tricks)"
      ]
    },
    {
      "cell_type": "code",
      "execution_count": null,
      "metadata": {
        "id": "wzQWM4WWiaW4",
        "colab": {
          "base_uri": "https://localhost:8080/"
        },
        "outputId": "e86787ac-6a43-47f8-e5a9-effdbeed26c2"
      },
      "outputs": [
        {
          "output_type": "stream",
          "name": "stdout",
          "text": [
            "[[0 1 2]\n",
            " [1 2 3]\n",
            " [2 3 4]\n",
            " [3 4 5]\n",
            " [4 5 6]\n",
            " [5 6 7]\n",
            " [6 7 8]\n",
            " [7 8 9]]\n"
          ]
        }
      ],
      "source": [
        "from numpy.lib import stride_tricks\n",
        "\n",
        "def rolling(a, window):\n",
        "    shape = (a.size - window + 1, window)\n",
        "    strides = (a.itemsize, a.itemsize)\n",
        "    return stride_tricks.as_strided(a, shape=shape, strides=strides)\n",
        "Z = rolling(np.arange(10), 3)\n",
        "print(Z)"
      ]
    },
    {
      "cell_type": "markdown",
      "metadata": {
        "id": "kNSG5wEwiaW4"
      },
      "source": [
        "#### 77. How to negate a boolean, or to change the sign of a float inplace? (★★★) \n",
        "(**hint**: np.logical_not, np.negative)"
      ]
    },
    {
      "cell_type": "code",
      "execution_count": null,
      "metadata": {
        "id": "1K0jFk04iaW4",
        "colab": {
          "base_uri": "https://localhost:8080/"
        },
        "outputId": "8594c04f-6e08-4431-aded-96fec366c279"
      },
      "outputs": [
        {
          "output_type": "execute_result",
          "data": {
            "text/plain": [
              "array([ 0.06697458, -0.17014875,  0.01331324,  0.51010549, -0.83792369,\n",
              "        0.8187047 , -0.57097828,  0.36813625,  0.49215164,  0.12589548,\n",
              "       -0.71296135, -0.57281043, -0.84317503, -0.24937947, -0.51045948,\n",
              "       -0.15867126, -0.32597005,  0.35274167, -0.91056102, -0.10160793,\n",
              "       -0.04664864,  0.1854241 , -0.23613836,  0.0926307 ,  0.71440265,\n",
              "        0.2101391 , -0.98109423,  0.18776713, -0.25303883, -0.53819854,\n",
              "        0.16085667, -0.70103336,  0.94724197, -0.91023407, -0.65206462,\n",
              "       -0.31706306,  0.63950731,  0.17967444, -0.65680778, -0.53272836,\n",
              "        0.40130537,  0.95923239,  0.44951331,  0.06514266, -0.68885269,\n",
              "       -0.59148844,  0.06609875,  0.11770571,  0.02191279,  0.13636124,\n",
              "       -0.52664746,  0.04960427, -0.25415576, -0.77476891,  0.2312385 ,\n",
              "        0.94690429, -0.6266597 ,  0.02937983,  0.44084097,  0.64241476,\n",
              "        0.59031109, -0.37098834, -0.96228064,  0.96790461, -0.92892905,\n",
              "       -0.35179038, -0.22823632,  0.42176808, -0.67468995, -0.78121681,\n",
              "        0.32163902,  0.05809593, -0.49921481, -0.99573572,  0.96870797,\n",
              "        0.08903945,  0.58966186,  0.28076357, -0.70150098,  0.02157209,\n",
              "        0.79962974, -0.90193902, -0.77636174, -0.31347585,  0.99568615,\n",
              "       -0.66406082,  0.78218018, -0.06864404,  0.29592877,  0.00986422,\n",
              "        0.78657641, -0.73651631, -0.30761473,  0.36561771, -0.0847332 ,\n",
              "        0.34852889, -0.96317418, -0.11802236, -0.36196205,  0.57790282])"
            ]
          },
          "metadata": {},
          "execution_count": 32
        }
      ],
      "source": [
        "a = np.random.randint(0,2,100)\n",
        "np.logical_not(a, out=a)\n",
        "\n",
        "a = np.random.uniform(-1.0,1.0,100)\n",
        "np.negative(a, out=a)"
      ]
    },
    {
      "cell_type": "markdown",
      "metadata": {
        "id": "zG9fXkJZiaW4"
      },
      "source": [
        "#### 78. Consider 2 sets of points P0,P1 describing lines (2d) and a point p, how to compute distance from p to each line i  (P0\\[i\\],P1\\[i\\])? (★★★)"
      ]
    },
    {
      "cell_type": "code",
      "execution_count": null,
      "metadata": {
        "id": "O-Ea-LD4iaW5",
        "colab": {
          "base_uri": "https://localhost:8080/"
        },
        "outputId": "a859b03b-84c6-4d9d-a2f3-77ebd4f852f5"
      },
      "outputs": [
        {
          "output_type": "stream",
          "name": "stdout",
          "text": [
            "[ 7.43494284  8.5767321   3.7160088   7.62870748 11.59740423  1.25179416\n",
            "  5.24725014  4.32197154  2.22109382  2.92054964]\n"
          ]
        }
      ],
      "source": [
        "def distance(P0, P1, p):\n",
        "    T = P1 - P0\n",
        "    L = (T**2).sum(axis=1)\n",
        "    U = -((P0[:,0]-p[...,0])*T[:,0] + (P0[:,1]-p[...,1])*T[:,1]) / L\n",
        "    U = U.reshape(len(U),1)\n",
        "    D = P0 + U*T - p\n",
        "    return np.sqrt((D**2).sum(axis=1))\n",
        "\n",
        "P0 = np.random.uniform(-10,10,(10,2))\n",
        "P1 = np.random.uniform(-10,10,(10,2))\n",
        "p  = np.random.uniform(-10,10,( 1,2))\n",
        "print(distance(P0, P1, p))"
      ]
    },
    {
      "cell_type": "markdown",
      "metadata": {
        "id": "srFQc8_YiaW5"
      },
      "source": [
        "#### 79. Consider 2 sets of points P0,P1 describing lines (2d) and a set of points P, how to compute distance from each point j (P\\[j\\]) to each line i (P0\\[i\\],P1\\[i\\])? (★★★)"
      ]
    },
    {
      "cell_type": "code",
      "execution_count": null,
      "metadata": {
        "id": "FqVrodnWiaW5",
        "colab": {
          "base_uri": "https://localhost:8080/"
        },
        "outputId": "2b044f55-d35c-40b3-d3c1-1844b0428cc1"
      },
      "outputs": [
        {
          "output_type": "stream",
          "name": "stdout",
          "text": [
            "[[ 8.59279535 14.27059325 12.9995884   5.80765086 10.85351416  7.47635352\n",
            "  15.21464864 11.27759882  0.08099779  9.18416275]\n",
            " [ 6.4607812   5.93890815  4.94213154 14.57512777  4.66943865  4.54891897\n",
            "   4.51915472  7.21169414 18.38755572  4.08452567]\n",
            " [ 8.23216768 12.78535083 12.09383936  3.42690727  8.30564446  5.04366716\n",
            "  13.87482794 12.40614683  2.45433502  6.69959934]\n",
            " [ 5.45417936  1.36743144  2.21153292  7.12496821  3.36781297  3.15347534\n",
            "   0.4105912   3.54020402 10.42064348  3.77206568]\n",
            " [ 7.45092849 11.79041354 11.18832869  2.47095082  7.61716054  4.53501367\n",
            "  12.89736466 12.12915548  3.30016017  6.12760487]\n",
            " [ 4.28728588  4.05305576  5.75846333  8.4103578   3.23135786  5.46899371\n",
            "   5.72723632 15.54873516 14.47800037  4.21472832]\n",
            " [ 0.29174789  4.94769661  3.64875351  1.29840726  7.35343636  5.95891336\n",
            "   5.82379958  5.68825315  5.37377368  6.990337  ]\n",
            " [ 4.14365053 11.35726946  9.15144207  5.56736489 12.91618691 10.47683589\n",
            "  12.03229371  6.32900359  1.0190986  11.88466093]\n",
            " [ 7.46940391  6.14786822  5.59986402 13.77611364  3.22046322  2.90149941\n",
            "   4.84954937  5.53694608 17.23100008  2.49515038]\n",
            " [ 7.73565566  7.53015639  9.32058879  5.91958736  2.18023358  5.18295906\n",
            "   9.24964292 17.89130455 12.65645973  3.66928741]]\n"
          ]
        }
      ],
      "source": [
        "P0 = np.random.uniform(-10, 10, (10,2))\n",
        "P1 = np.random.uniform(-10,10,(10,2))\n",
        "p = np.random.uniform(-10, 10, (10,2))\n",
        "print(np.array([distance(P0,P1,p_i) for p_i in p]))"
      ]
    },
    {
      "cell_type": "markdown",
      "metadata": {
        "id": "UmEVT9poiaW5"
      },
      "source": [
        "#### 80. Consider an arbitrary array, write a function that extract a subpart with a fixed shape and centered on a given element (pad with a `fill` value when necessary) (★★★) \n",
        "(**hint**: minimum, maximum)"
      ]
    },
    {
      "cell_type": "code",
      "execution_count": null,
      "metadata": {
        "id": "8hiswKUviaW6",
        "colab": {
          "base_uri": "https://localhost:8080/"
        },
        "outputId": "1e7bc30d-9bb8-4ea0-8ea5-e0a0a2a44bc6"
      },
      "outputs": [
        {
          "output_type": "stream",
          "name": "stdout",
          "text": [
            "[[1 6 5 3 7 5 0 7 4 5]\n",
            " [6 4 8 7 6 1 5 2 3 1]\n",
            " [5 4 3 3 5 9 7 1 8 7]\n",
            " [3 0 6 0 4 4 1 9 3 2]\n",
            " [5 5 7 1 8 9 7 9 7 9]\n",
            " [9 6 0 4 6 6 3 2 7 5]\n",
            " [0 5 1 2 4 6 2 0 4 0]\n",
            " [8 0 2 7 3 4 7 8 0 0]\n",
            " [3 5 2 2 7 9 3 6 0 0]\n",
            " [3 3 8 7 1 8 7 3 8 9]]\n",
            "[[0 0 0 0 0]\n",
            " [0 1 6 5 3]\n",
            " [0 6 4 8 7]\n",
            " [0 5 4 3 3]\n",
            " [0 3 0 6 0]]\n"
          ]
        },
        {
          "output_type": "stream",
          "name": "stderr",
          "text": [
            "/usr/local/lib/python3.7/dist-packages/ipykernel_launcher.py:23: FutureWarning: Using a non-tuple sequence for multidimensional indexing is deprecated; use `arr[tuple(seq)]` instead of `arr[seq]`. In the future this will be interpreted as an array index, `arr[np.array(seq)]`, which will result either in an error or a different result.\n"
          ]
        }
      ],
      "source": [
        "Z = np.random.randint(0,10,(10,10))\n",
        "shape = (5,5)\n",
        "fill  = 0\n",
        "position = (1,1)\n",
        "\n",
        "R = np.ones(shape, dtype=Z.dtype)*fill\n",
        "P  = np.array(list(position)).astype(int)\n",
        "Rs = np.array(list(R.shape)).astype(int)\n",
        "Zs = np.array(list(Z.shape)).astype(int)\n",
        "\n",
        "R_start = np.zeros((len(shape),)).astype(int)\n",
        "R_stop  = np.array(list(shape)).astype(int)\n",
        "Z_start = (P-Rs//2)\n",
        "Z_stop  = (P+Rs//2)+Rs%2\n",
        "\n",
        "R_start = (R_start - np.minimum(Z_start,0)).tolist()\n",
        "Z_start = (np.maximum(Z_start,0)).tolist()\n",
        "R_stop = np.maximum(R_start, (R_stop - np.maximum(Z_stop-Zs,0))).tolist()\n",
        "Z_stop = (np.minimum(Z_stop,Zs)).tolist()\n",
        "\n",
        "r = [slice(start,stop) for start,stop in zip(R_start,R_stop)]\n",
        "z = [slice(start,stop) for start,stop in zip(Z_start,Z_stop)]\n",
        "R[r] = Z[z]\n",
        "print(Z)\n",
        "print(R)"
      ]
    },
    {
      "cell_type": "markdown",
      "metadata": {
        "id": "Ftz0Dlc4iaW6"
      },
      "source": [
        "#### 81. Consider an array Z = \\[1,2,3,4,5,6,7,8,9,10,11,12,13,14\\], how to generate an array R = \\[\\[1,2,3,4\\], \\[2,3,4,5\\], \\[3,4,5,6\\], ..., \\[11,12,13,14\\]\\]? (★★★) \n",
        "(**hint**: stride\\_tricks.as\\_strided)"
      ]
    },
    {
      "cell_type": "code",
      "execution_count": null,
      "metadata": {
        "id": "N4bTpkJjiaW6",
        "colab": {
          "base_uri": "https://localhost:8080/"
        },
        "outputId": "1de38b91-c006-4d59-855c-2866a1e6a72c"
      },
      "outputs": [
        {
          "output_type": "stream",
          "name": "stdout",
          "text": [
            "[[ 1  2  3  4]\n",
            " [ 2  3  4  5]\n",
            " [ 3  4  5  6]\n",
            " [ 4  5  6  7]\n",
            " [ 5  6  7  8]\n",
            " [ 6  7  8  9]\n",
            " [ 7  8  9 10]\n",
            " [ 8  9 10 11]\n",
            " [ 9 10 11 12]\n",
            " [10 11 12 13]\n",
            " [11 12 13 14]]\n"
          ]
        }
      ],
      "source": [
        "Z = np.arange(1,15,dtype=np.uint32)\n",
        "R = stride_tricks.as_strided(Z,(11,4),(4,4))\n",
        "print(R)"
      ]
    },
    {
      "cell_type": "markdown",
      "metadata": {
        "id": "m29rGjjQiaW6"
      },
      "source": [
        "#### 82. Compute a matrix rank (★★★) \n",
        "(**hint**: np.linalg.svd) (suggestion: np.linalg.svd)"
      ]
    },
    {
      "cell_type": "code",
      "execution_count": null,
      "metadata": {
        "id": "1oYbb_WDiaW7",
        "colab": {
          "base_uri": "https://localhost:8080/"
        },
        "outputId": "827bdcd5-1bd0-4e87-8dff-c264b74f64cb"
      },
      "outputs": [
        {
          "output_type": "stream",
          "name": "stdout",
          "text": [
            "10\n"
          ]
        }
      ],
      "source": [
        "Z = np.random.uniform(0,1,(10,10))\n",
        "U, S, V = np.linalg.svd(Z) \n",
        "rank = np.sum(S > 1e-10)\n",
        "print(rank)"
      ]
    },
    {
      "cell_type": "markdown",
      "metadata": {
        "id": "3YRnT6Z-iaW7"
      },
      "source": [
        "#### 83. How to find the most frequent value in an array? \n",
        "(**hint**: np.bincount, argmax)"
      ]
    },
    {
      "cell_type": "code",
      "execution_count": null,
      "metadata": {
        "id": "Rc6xfK_AiaW7",
        "colab": {
          "base_uri": "https://localhost:8080/"
        },
        "outputId": "a9a0ccd6-2c72-4a14-93c3-c52e985b3aec"
      },
      "outputs": [
        {
          "output_type": "stream",
          "name": "stdout",
          "text": [
            "2\n"
          ]
        }
      ],
      "source": [
        "Z = np.random.randint(0,10,50)\n",
        "print(np.bincount(Z).argmax())"
      ]
    },
    {
      "cell_type": "markdown",
      "metadata": {
        "id": "A6e9MTcWiaW7"
      },
      "source": [
        "#### 84. Extract all the contiguous 3x3 blocks from a random 10x10 matrix (★★★) \n",
        "(**hint**: stride\\_tricks.as\\_strided)"
      ]
    },
    {
      "cell_type": "code",
      "execution_count": null,
      "metadata": {
        "id": "_YVI5lv_iaW7",
        "colab": {
          "base_uri": "https://localhost:8080/"
        },
        "outputId": "d66630d2-f11c-4627-d321-4f16e6bfacf1"
      },
      "outputs": [
        {
          "output_type": "stream",
          "name": "stdout",
          "text": [
            "[[[[3 3 2]\n",
            "   [0 1 3]\n",
            "   [0 1 4]]\n",
            "\n",
            "  [[3 2 4]\n",
            "   [1 3 3]\n",
            "   [1 4 3]]\n",
            "\n",
            "  [[2 4 3]\n",
            "   [3 3 4]\n",
            "   [4 3 2]]\n",
            "\n",
            "  [[4 3 0]\n",
            "   [3 4 3]\n",
            "   [3 2 4]]\n",
            "\n",
            "  [[3 0 3]\n",
            "   [4 3 1]\n",
            "   [2 4 1]]\n",
            "\n",
            "  [[0 3 4]\n",
            "   [3 1 4]\n",
            "   [4 1 2]]\n",
            "\n",
            "  [[3 4 4]\n",
            "   [1 4 3]\n",
            "   [1 2 1]]\n",
            "\n",
            "  [[4 4 2]\n",
            "   [4 3 0]\n",
            "   [2 1 1]]]\n",
            "\n",
            "\n",
            " [[[0 1 3]\n",
            "   [0 1 4]\n",
            "   [2 3 2]]\n",
            "\n",
            "  [[1 3 3]\n",
            "   [1 4 3]\n",
            "   [3 2 2]]\n",
            "\n",
            "  [[3 3 4]\n",
            "   [4 3 2]\n",
            "   [2 2 0]]\n",
            "\n",
            "  [[3 4 3]\n",
            "   [3 2 4]\n",
            "   [2 0 0]]\n",
            "\n",
            "  [[4 3 1]\n",
            "   [2 4 1]\n",
            "   [0 0 4]]\n",
            "\n",
            "  [[3 1 4]\n",
            "   [4 1 2]\n",
            "   [0 4 0]]\n",
            "\n",
            "  [[1 4 3]\n",
            "   [1 2 1]\n",
            "   [4 0 1]]\n",
            "\n",
            "  [[4 3 0]\n",
            "   [2 1 1]\n",
            "   [0 1 3]]]\n",
            "\n",
            "\n",
            " [[[0 1 4]\n",
            "   [2 3 2]\n",
            "   [3 0 3]]\n",
            "\n",
            "  [[1 4 3]\n",
            "   [3 2 2]\n",
            "   [0 3 3]]\n",
            "\n",
            "  [[4 3 2]\n",
            "   [2 2 0]\n",
            "   [3 3 1]]\n",
            "\n",
            "  [[3 2 4]\n",
            "   [2 0 0]\n",
            "   [3 1 0]]\n",
            "\n",
            "  [[2 4 1]\n",
            "   [0 0 4]\n",
            "   [1 0 2]]\n",
            "\n",
            "  [[4 1 2]\n",
            "   [0 4 0]\n",
            "   [0 2 4]]\n",
            "\n",
            "  [[1 2 1]\n",
            "   [4 0 1]\n",
            "   [2 4 3]]\n",
            "\n",
            "  [[2 1 1]\n",
            "   [0 1 3]\n",
            "   [4 3 2]]]\n",
            "\n",
            "\n",
            " [[[2 3 2]\n",
            "   [3 0 3]\n",
            "   [4 3 3]]\n",
            "\n",
            "  [[3 2 2]\n",
            "   [0 3 3]\n",
            "   [3 3 3]]\n",
            "\n",
            "  [[2 2 0]\n",
            "   [3 3 1]\n",
            "   [3 3 1]]\n",
            "\n",
            "  [[2 0 0]\n",
            "   [3 1 0]\n",
            "   [3 1 0]]\n",
            "\n",
            "  [[0 0 4]\n",
            "   [1 0 2]\n",
            "   [1 0 4]]\n",
            "\n",
            "  [[0 4 0]\n",
            "   [0 2 4]\n",
            "   [0 4 1]]\n",
            "\n",
            "  [[4 0 1]\n",
            "   [2 4 3]\n",
            "   [4 1 3]]\n",
            "\n",
            "  [[0 1 3]\n",
            "   [4 3 2]\n",
            "   [1 3 1]]]\n",
            "\n",
            "\n",
            " [[[3 0 3]\n",
            "   [4 3 3]\n",
            "   [2 2 1]]\n",
            "\n",
            "  [[0 3 3]\n",
            "   [3 3 3]\n",
            "   [2 1 0]]\n",
            "\n",
            "  [[3 3 1]\n",
            "   [3 3 1]\n",
            "   [1 0 3]]\n",
            "\n",
            "  [[3 1 0]\n",
            "   [3 1 0]\n",
            "   [0 3 2]]\n",
            "\n",
            "  [[1 0 2]\n",
            "   [1 0 4]\n",
            "   [3 2 1]]\n",
            "\n",
            "  [[0 2 4]\n",
            "   [0 4 1]\n",
            "   [2 1 0]]\n",
            "\n",
            "  [[2 4 3]\n",
            "   [4 1 3]\n",
            "   [1 0 3]]\n",
            "\n",
            "  [[4 3 2]\n",
            "   [1 3 1]\n",
            "   [0 3 4]]]\n",
            "\n",
            "\n",
            " [[[4 3 3]\n",
            "   [2 2 1]\n",
            "   [4 1 4]]\n",
            "\n",
            "  [[3 3 3]\n",
            "   [2 1 0]\n",
            "   [1 4 2]]\n",
            "\n",
            "  [[3 3 1]\n",
            "   [1 0 3]\n",
            "   [4 2 1]]\n",
            "\n",
            "  [[3 1 0]\n",
            "   [0 3 2]\n",
            "   [2 1 2]]\n",
            "\n",
            "  [[1 0 4]\n",
            "   [3 2 1]\n",
            "   [1 2 0]]\n",
            "\n",
            "  [[0 4 1]\n",
            "   [2 1 0]\n",
            "   [2 0 2]]\n",
            "\n",
            "  [[4 1 3]\n",
            "   [1 0 3]\n",
            "   [0 2 4]]\n",
            "\n",
            "  [[1 3 1]\n",
            "   [0 3 4]\n",
            "   [2 4 0]]]\n",
            "\n",
            "\n",
            " [[[2 2 1]\n",
            "   [4 1 4]\n",
            "   [0 2 0]]\n",
            "\n",
            "  [[2 1 0]\n",
            "   [1 4 2]\n",
            "   [2 0 1]]\n",
            "\n",
            "  [[1 0 3]\n",
            "   [4 2 1]\n",
            "   [0 1 4]]\n",
            "\n",
            "  [[0 3 2]\n",
            "   [2 1 2]\n",
            "   [1 4 3]]\n",
            "\n",
            "  [[3 2 1]\n",
            "   [1 2 0]\n",
            "   [4 3 4]]\n",
            "\n",
            "  [[2 1 0]\n",
            "   [2 0 2]\n",
            "   [3 4 3]]\n",
            "\n",
            "  [[1 0 3]\n",
            "   [0 2 4]\n",
            "   [4 3 1]]\n",
            "\n",
            "  [[0 3 4]\n",
            "   [2 4 0]\n",
            "   [3 1 1]]]\n",
            "\n",
            "\n",
            " [[[4 1 4]\n",
            "   [0 2 0]\n",
            "   [4 4 4]]\n",
            "\n",
            "  [[1 4 2]\n",
            "   [2 0 1]\n",
            "   [4 4 4]]\n",
            "\n",
            "  [[4 2 1]\n",
            "   [0 1 4]\n",
            "   [4 4 0]]\n",
            "\n",
            "  [[2 1 2]\n",
            "   [1 4 3]\n",
            "   [4 0 3]]\n",
            "\n",
            "  [[1 2 0]\n",
            "   [4 3 4]\n",
            "   [0 3 4]]\n",
            "\n",
            "  [[2 0 2]\n",
            "   [3 4 3]\n",
            "   [3 4 1]]\n",
            "\n",
            "  [[0 2 4]\n",
            "   [4 3 1]\n",
            "   [4 1 4]]\n",
            "\n",
            "  [[2 4 0]\n",
            "   [3 1 1]\n",
            "   [1 4 1]]]]\n"
          ]
        }
      ],
      "source": [
        "Z = np.random.randint(0,5,(10,10))\n",
        "n = 3\n",
        "i = 1 + (Z.shape[0]-3)\n",
        "j = 1 + (Z.shape[1]-3)\n",
        "C = stride_tricks.as_strided(Z, shape=(i, j, n, n), strides=Z.strides + Z.strides)\n",
        "print(C)"
      ]
    },
    {
      "cell_type": "markdown",
      "metadata": {
        "id": "cKsn5q2viaW8"
      },
      "source": [
        "#### 85. Create a 2D array subclass such that Z\\[i,j\\] == Z\\[j,i\\] (★★★) \n",
        "(**hint**: class method)"
      ]
    },
    {
      "cell_type": "code",
      "execution_count": null,
      "metadata": {
        "id": "vyqmBv6SiaW8",
        "colab": {
          "base_uri": "https://localhost:8080/"
        },
        "outputId": "82a10ce4-b77e-4b8b-ac9e-fa57e4bd7136"
      },
      "outputs": [
        {
          "output_type": "stream",
          "name": "stdout",
          "text": [
            "[[ 0  5 10 16  9]\n",
            " [ 5  6  7 10  7]\n",
            " [10  7  3 42 16]\n",
            " [16 10 42  0  6]\n",
            " [ 9  7 16  6  8]]\n"
          ]
        }
      ],
      "source": [
        "class Symetric(np.ndarray):\n",
        "    def __setitem__(self, index, value):\n",
        "        i,j = index\n",
        "        super(Symetric, self).__setitem__((i,j), value)\n",
        "        super(Symetric, self).__setitem__((j,i), value)\n",
        "\n",
        "def symetric(Z):\n",
        "    return np.asarray(Z + Z.T - np.diag(Z.diagonal())).view(Symetric)\n",
        "\n",
        "S = symetric(np.random.randint(0,10,(5,5)))\n",
        "S[2,3] = 42\n",
        "print(S)"
      ]
    },
    {
      "cell_type": "markdown",
      "metadata": {
        "id": "ayjFd920iaW8"
      },
      "source": [
        "#### 86. Consider a set of p matrices wich shape (n,n) and a set of p vectors with shape (n,1). How to compute the sum of of the p matrix products at once? (result has shape (n,1)) (★★★) \n",
        "(**hint**: np.tensordot)"
      ]
    },
    {
      "cell_type": "code",
      "execution_count": null,
      "metadata": {
        "id": "IU97jwh6iaW9",
        "colab": {
          "base_uri": "https://localhost:8080/"
        },
        "outputId": "3e790537-fe15-412b-f15c-42f132c91582"
      },
      "outputs": [
        {
          "output_type": "stream",
          "name": "stdout",
          "text": [
            "[[200.]\n",
            " [200.]\n",
            " [200.]\n",
            " [200.]\n",
            " [200.]\n",
            " [200.]\n",
            " [200.]\n",
            " [200.]\n",
            " [200.]\n",
            " [200.]\n",
            " [200.]\n",
            " [200.]\n",
            " [200.]\n",
            " [200.]\n",
            " [200.]\n",
            " [200.]\n",
            " [200.]\n",
            " [200.]\n",
            " [200.]\n",
            " [200.]]\n"
          ]
        }
      ],
      "source": [
        "p, n = 10, 20\n",
        "M = np.ones((p,n,n))\n",
        "V = np.ones((p,n,1))\n",
        "S = np.tensordot(M, V, axes=[[0, 2], [0, 1]])\n",
        "print(S)"
      ]
    },
    {
      "cell_type": "markdown",
      "metadata": {
        "id": "JVUHYLTIiaW9"
      },
      "source": [
        "#### 87. Consider a 16x16 array, how to get the block-sum (block size is 4x4)? (★★★) \n",
        "(**hint**: np.add.reduceat)"
      ]
    },
    {
      "cell_type": "code",
      "execution_count": null,
      "metadata": {
        "id": "IE45VsXliaXC",
        "colab": {
          "base_uri": "https://localhost:8080/"
        },
        "outputId": "978a4081-bb4a-4527-b766-0a81f635f98a"
      },
      "outputs": [
        {
          "output_type": "stream",
          "name": "stdout",
          "text": [
            "[[16. 16. 16. 16.]\n",
            " [16. 16. 16. 16.]\n",
            " [16. 16. 16. 16.]\n",
            " [16. 16. 16. 16.]]\n"
          ]
        }
      ],
      "source": [
        "Z = np.ones((16,16))\n",
        "k = 4\n",
        "S = np.add.reduceat(np.add.reduceat(Z, np.arange(0, Z.shape[0], k), axis=0),\n",
        "                                       np.arange(0, Z.shape[1], k), axis=1)\n",
        "print(S)"
      ]
    },
    {
      "cell_type": "markdown",
      "metadata": {
        "id": "WM-5HRZRiaXD"
      },
      "source": [
        "#### 88. How to implement the Game of Life using numpy arrays? (★★★)"
      ]
    },
    {
      "cell_type": "code",
      "execution_count": null,
      "metadata": {
        "id": "H6wodnI1iaXD",
        "colab": {
          "base_uri": "https://localhost:8080/"
        },
        "outputId": "cbc03fdb-28bc-42d8-ddb8-a0a54d799adb"
      },
      "outputs": [
        {
          "output_type": "stream",
          "name": "stdout",
          "text": [
            "[[0 0 0 ... 0 0 0]\n",
            " [0 0 0 ... 0 0 0]\n",
            " [0 0 0 ... 0 0 0]\n",
            " ...\n",
            " [0 0 1 ... 0 0 0]\n",
            " [0 0 1 ... 0 0 0]\n",
            " [0 0 0 ... 0 0 0]]\n"
          ]
        }
      ],
      "source": [
        "def iterate(Z):\n",
        "    N = (Z[0:-2,0:-2] + Z[0:-2,1:-1] + Z[0:-2,2:] +\n",
        "         Z[1:-1,0:-2]                + Z[1:-1,2:] +\n",
        "         Z[2:  ,0:-2] + Z[2:  ,1:-1] + Z[2:  ,2:])\n",
        "\n",
        "    birth = (N==3) & (Z[1:-1,1:-1]==0)\n",
        "    survive = ((N==2) | (N==3)) & (Z[1:-1,1:-1]==1)\n",
        "    Z[...] = 0\n",
        "    Z[1:-1,1:-1][birth | survive] = 1\n",
        "    return Z\n",
        "\n",
        "Z = np.random.randint(0,2,(50,50))\n",
        "for i in range(100): Z = iterate(Z)\n",
        "print(Z)"
      ]
    },
    {
      "cell_type": "markdown",
      "metadata": {
        "id": "YY60vfC0iaXD"
      },
      "source": [
        "#### 89. How to get the n largest values of an array (★★★) \n",
        "(**hint**: np.argsort | np.argpartition)"
      ]
    },
    {
      "cell_type": "code",
      "execution_count": null,
      "metadata": {
        "id": "nJ5H3UNeiaXE",
        "colab": {
          "base_uri": "https://localhost:8080/"
        },
        "outputId": "4a1cf8af-6f9f-41b3-cb77-719498a35314"
      },
      "outputs": [
        {
          "output_type": "stream",
          "name": "stdout",
          "text": [
            "[9995 9996 9997 9998 9999]\n",
            "[9999 9996 9997 9998 9995]\n"
          ]
        }
      ],
      "source": [
        "Z = np.arange(10000)\n",
        "np.random.shuffle(Z)\n",
        "n = 5\n",
        "print (Z[np.argsort(Z)[-n:]])\n",
        "print (Z[np.argpartition(-Z,n)[:n]])"
      ]
    },
    {
      "cell_type": "markdown",
      "metadata": {
        "id": "pAo0LjwFiaXE"
      },
      "source": [
        "#### 90. Given an arbitrary number of vectors, build the cartesian product (every combinations of every item) (★★★) \n",
        "(**hint**: np.indices)"
      ]
    },
    {
      "cell_type": "code",
      "execution_count": null,
      "metadata": {
        "scrolled": true,
        "id": "MXFsoJZwiaXE",
        "colab": {
          "base_uri": "https://localhost:8080/"
        },
        "outputId": "c34a3743-c68e-4ec1-8597-58255d8cb77d"
      },
      "outputs": [
        {
          "output_type": "stream",
          "name": "stdout",
          "text": [
            "[[1 4 6]\n",
            " [1 4 7]\n",
            " [1 5 6]\n",
            " [1 5 7]\n",
            " [2 4 6]\n",
            " [2 4 7]\n",
            " [2 5 6]\n",
            " [2 5 7]\n",
            " [3 4 6]\n",
            " [3 4 7]\n",
            " [3 5 6]\n",
            " [3 5 7]]\n"
          ]
        }
      ],
      "source": [
        "def cartesian(arrays):\n",
        "    arrays = [np.asarray(a) for a in arrays]\n",
        "    shape = (len(x) for x in arrays)\n",
        "\n",
        "    ix = np.indices(shape, dtype=int)\n",
        "    ix = ix.reshape(len(arrays), -1).T\n",
        "\n",
        "    for n, arr in enumerate(arrays):\n",
        "        ix[:, n] = arrays[n][ix[:, n]]\n",
        "\n",
        "    return ix\n",
        "\n",
        "print (cartesian(([1, 2, 3], [4, 5], [6, 7])))"
      ]
    },
    {
      "cell_type": "markdown",
      "metadata": {
        "id": "zDdXjlw8iaXE"
      },
      "source": [
        "#### 91. How to create a record array from a regular array? (★★★) \n",
        "(**hint**: np.core.records.fromarrays)"
      ]
    },
    {
      "cell_type": "code",
      "execution_count": null,
      "metadata": {
        "id": "NLN44pNqiaXE",
        "colab": {
          "base_uri": "https://localhost:8080/"
        },
        "outputId": "f8eaf4d4-7e32-414a-fb1a-a5642d01356f"
      },
      "outputs": [
        {
          "output_type": "stream",
          "name": "stdout",
          "text": [
            "[(b'Hello', 2.5, 3) (b'World', 3.6, 2)]\n"
          ]
        }
      ],
      "source": [
        "Z = np.array([(\"Hello\", 2.5, 3),\n",
        "              (\"World\", 3.6, 2)])\n",
        "R = np.core.records.fromarrays(Z.T, \n",
        "                               names='col1, col2, col3',\n",
        "                               formats = 'S8, f8, i8')\n",
        "print(R)"
      ]
    },
    {
      "cell_type": "markdown",
      "metadata": {
        "id": "ilo-XPumiaXF"
      },
      "source": [
        "#### 92. Consider a large vector Z, compute Z to the power of 3 using 3 different methods (★★★) \n",
        "(**hint**: np.power, \\*, np.einsum)"
      ]
    },
    {
      "cell_type": "code",
      "execution_count": null,
      "metadata": {
        "id": "BlPh-cIgiaXF",
        "colab": {
          "base_uri": "https://localhost:8080/",
          "height": 340
        },
        "outputId": "9b08dffc-a36e-451b-dc9d-c0d4b0e0d9d2"
      },
      "outputs": [
        {
          "output_type": "error",
          "ename": "TypeError",
          "evalue": "ignored",
          "traceback": [
            "\u001b[0;31m---------------------------------------------------------------------------\u001b[0m",
            "\u001b[0;31mTypeError\u001b[0m                                 Traceback (most recent call last)",
            "\u001b[0;32m<ipython-input-49-3d232f0722da>\u001b[0m in \u001b[0;36m<module>\u001b[0;34m()\u001b[0m\n\u001b[0;32m----> 1\u001b[0;31m \u001b[0mx\u001b[0m \u001b[0;34m=\u001b[0m \u001b[0mnp\u001b[0m\u001b[0;34m.\u001b[0m\u001b[0mrandom\u001b[0m\u001b[0;34m.\u001b[0m\u001b[0mrand\u001b[0m\u001b[0;34m(\u001b[0m\u001b[0;36m5e7\u001b[0m\u001b[0;34m)\u001b[0m\u001b[0;34m\u001b[0m\u001b[0;34m\u001b[0m\u001b[0m\n\u001b[0m\u001b[1;32m      2\u001b[0m \u001b[0;34m\u001b[0m\u001b[0m\n\u001b[1;32m      3\u001b[0m \u001b[0mget_ipython\u001b[0m\u001b[0;34m(\u001b[0m\u001b[0;34m)\u001b[0m\u001b[0;34m.\u001b[0m\u001b[0mmagic\u001b[0m\u001b[0;34m(\u001b[0m\u001b[0;34m'timeit np.power(x,3)'\u001b[0m\u001b[0;34m)\u001b[0m\u001b[0;34m\u001b[0m\u001b[0;34m\u001b[0m\u001b[0m\n\u001b[1;32m      4\u001b[0m \u001b[0mget_ipython\u001b[0m\u001b[0;34m(\u001b[0m\u001b[0;34m)\u001b[0m\u001b[0;34m.\u001b[0m\u001b[0mmagic\u001b[0m\u001b[0;34m(\u001b[0m\u001b[0;34m'timeit x*x*x'\u001b[0m\u001b[0;34m)\u001b[0m\u001b[0;34m\u001b[0m\u001b[0;34m\u001b[0m\u001b[0m\n\u001b[1;32m      5\u001b[0m \u001b[0mget_ipython\u001b[0m\u001b[0;34m(\u001b[0m\u001b[0;34m)\u001b[0m\u001b[0;34m.\u001b[0m\u001b[0mmagic\u001b[0m\u001b[0;34m(\u001b[0m\u001b[0;34m\"timeit np.einsum('i,i,i->i',x,x,x)\"\u001b[0m\u001b[0;34m)\u001b[0m\u001b[0;34m\u001b[0m\u001b[0;34m\u001b[0m\u001b[0m\n",
            "\u001b[0;32mmtrand.pyx\u001b[0m in \u001b[0;36mnumpy.random.mtrand.RandomState.rand\u001b[0;34m()\u001b[0m\n",
            "\u001b[0;32mmtrand.pyx\u001b[0m in \u001b[0;36mnumpy.random.mtrand.RandomState.random_sample\u001b[0;34m()\u001b[0m\n",
            "\u001b[0;32m_common.pyx\u001b[0m in \u001b[0;36mnumpy.random._common.double_fill\u001b[0;34m()\u001b[0m\n",
            "\u001b[0;31mTypeError\u001b[0m: 'float' object cannot be interpreted as an integer"
          ]
        }
      ],
      "source": [
        "x = np.random.rand(5e7)\n",
        "\n",
        "%timeit np.power(x,3)\n",
        "%timeit x*x*x\n",
        "%timeit np.einsum('i,i,i->i',x,x,x)"
      ]
    },
    {
      "cell_type": "markdown",
      "metadata": {
        "id": "nX_ynm5iiaXF"
      },
      "source": [
        "#### 93. Consider two arrays A and B of shape (8,3) and (2,2). How to find rows of A that contain elements of each row of B regardless of the order of the elements in B? (★★★) \n",
        "(**hint**: np.where)"
      ]
    },
    {
      "cell_type": "code",
      "execution_count": null,
      "metadata": {
        "id": "EvDW3QzwiaXF",
        "colab": {
          "base_uri": "https://localhost:8080/"
        },
        "outputId": "65095c54-d7e2-405c-83aa-afe78a6e450b"
      },
      "outputs": [
        {
          "output_type": "stream",
          "name": "stdout",
          "text": [
            "[0 4 5]\n"
          ]
        }
      ],
      "source": [
        "A = np.random.randint(0,5,(8,3))\n",
        "B = np.random.randint(0,5,(2,2))\n",
        "\n",
        "C = (A[..., np.newaxis, np.newaxis] == B)\n",
        "rows = np.where(C.any((3,1)).all(1))[0]\n",
        "print(rows)"
      ]
    },
    {
      "cell_type": "markdown",
      "metadata": {
        "id": "b39WiKEziaXF"
      },
      "source": [
        "#### 94. Considering a 10x3 matrix, extract rows with unequal values (e.g. \\[2,2,3\\]) (★★★)"
      ]
    },
    {
      "cell_type": "code",
      "execution_count": null,
      "metadata": {
        "id": "CErbzspYiaXG",
        "colab": {
          "base_uri": "https://localhost:8080/"
        },
        "outputId": "45bb2759-9f38-466d-e0ce-360de538c013"
      },
      "outputs": [
        {
          "output_type": "stream",
          "name": "stdout",
          "text": [
            "[[1 4 0]\n",
            " [4 4 3]\n",
            " [3 1 2]\n",
            " [1 3 4]\n",
            " [4 2 0]\n",
            " [3 2 2]\n",
            " [4 0 0]\n",
            " [4 3 1]\n",
            " [3 2 3]\n",
            " [3 1 3]]\n",
            "[[1 4 0]\n",
            " [4 4 3]\n",
            " [3 1 2]\n",
            " [1 3 4]\n",
            " [4 2 0]\n",
            " [3 2 2]\n",
            " [4 0 0]\n",
            " [4 3 1]\n",
            " [3 2 3]\n",
            " [3 1 3]]\n",
            "[[1 4 0]\n",
            " [4 4 3]\n",
            " [3 1 2]\n",
            " [1 3 4]\n",
            " [4 2 0]\n",
            " [3 2 2]\n",
            " [4 0 0]\n",
            " [4 3 1]\n",
            " [3 2 3]\n",
            " [3 1 3]]\n"
          ]
        }
      ],
      "source": [
        "Z = np.random.randint(0,5,(10,3))\n",
        "print(Z)\n",
        "E = np.all(Z[:,1:] == Z[:,:-1], axis=1)\n",
        "U = Z[~E]\n",
        "print(U)\n",
        "U = Z[Z.max(axis=1) != Z.min(axis=1),:]\n",
        "print(U)"
      ]
    },
    {
      "cell_type": "markdown",
      "metadata": {
        "id": "iY7vt2gyiaXG"
      },
      "source": [
        "#### 95. Convert a vector of ints into a matrix binary representation (★★★) \n",
        "(**hint**: np.unpackbits)"
      ]
    },
    {
      "cell_type": "code",
      "execution_count": null,
      "metadata": {
        "id": "IBhraJk2iaXG",
        "colab": {
          "base_uri": "https://localhost:8080/"
        },
        "outputId": "ae31d6b8-bf73-4c13-a2a0-a186f01a5432"
      },
      "outputs": [
        {
          "output_type": "stream",
          "name": "stdout",
          "text": [
            "[[0 0 0 0 0 0 0 0]\n",
            " [0 0 0 0 0 0 0 1]\n",
            " [0 0 0 0 0 0 1 0]\n",
            " [0 0 0 0 0 0 1 1]\n",
            " [0 0 0 0 1 1 1 1]\n",
            " [0 0 0 1 0 0 0 0]\n",
            " [0 0 1 0 0 0 0 0]\n",
            " [0 1 0 0 0 0 0 0]\n",
            " [1 0 0 0 0 0 0 0]]\n",
            "[[0 0 0 0 0 0 0 0]\n",
            " [0 0 0 0 0 0 0 1]\n",
            " [0 0 0 0 0 0 1 0]\n",
            " [0 0 0 0 0 0 1 1]\n",
            " [0 0 0 0 1 1 1 1]\n",
            " [0 0 0 1 0 0 0 0]\n",
            " [0 0 1 0 0 0 0 0]\n",
            " [0 1 0 0 0 0 0 0]\n",
            " [1 0 0 0 0 0 0 0]]\n"
          ]
        }
      ],
      "source": [
        "I = np.array([0, 1, 2, 3, 15, 16, 32, 64, 128])\n",
        "B = ((I.reshape(-1,1) & (2**np.arange(8))) != 0).astype(int)\n",
        "print(B[:,::-1])\n",
        "\n",
        "I = np.array([0, 1, 2, 3, 15, 16, 32, 64, 128], dtype=np.uint8)\n",
        "print(np.unpackbits(I[:, np.newaxis], axis=1))\n"
      ]
    },
    {
      "cell_type": "markdown",
      "metadata": {
        "id": "bIqrj1CQiaXG"
      },
      "source": [
        "#### 96. Given a two dimensional array, how to extract unique rows? (★★★) \n",
        "(**hint**: np.ascontiguousarray)"
      ]
    },
    {
      "cell_type": "code",
      "execution_count": null,
      "metadata": {
        "id": "asE0HHApiaXG",
        "colab": {
          "base_uri": "https://localhost:8080/"
        },
        "outputId": "fbdc7ad3-26f6-49f8-85eb-83b1ebc08bec"
      },
      "outputs": [
        {
          "output_type": "stream",
          "name": "stdout",
          "text": [
            "[[0 0 0]\n",
            " [0 0 1]\n",
            " [0 1 0]\n",
            " [0 1 1]\n",
            " [1 1 0]]\n",
            "[[0 0 0]\n",
            " [0 0 1]\n",
            " [0 1 0]\n",
            " [0 1 1]\n",
            " [1 1 0]]\n"
          ]
        }
      ],
      "source": [
        "Z = np.random.randint(0,2,(6,3))\n",
        "T = np.ascontiguousarray(Z).view(np.dtype((np.void, Z.dtype.itemsize * Z.shape[1])))\n",
        "_, idx = np.unique(T, return_index=True)\n",
        "uZ = Z[idx]\n",
        "print(uZ)\n",
        "uZ = np.unique(Z, axis=0)\n",
        "print(uZ)"
      ]
    },
    {
      "cell_type": "markdown",
      "metadata": {
        "id": "deA99hITiaXH"
      },
      "source": [
        "#### 97. Considering 2 vectors A & B, write the einsum equivalent of inner, outer, sum, and mul function (★★★) \n",
        "(**hint**: np.einsum)"
      ]
    },
    {
      "cell_type": "code",
      "execution_count": null,
      "metadata": {
        "id": "t5YpyUakiaXI",
        "colab": {
          "base_uri": "https://localhost:8080/"
        },
        "outputId": "eed85aea-c3c8-4fb6-cc88-0462091cfa2d"
      },
      "outputs": [
        {
          "output_type": "execute_result",
          "data": {
            "text/plain": [
              "array([[1.74139900e-01, 1.97772593e-03, 1.42643392e-01, 1.80592717e-01,\n",
              "        8.75988459e-02, 1.83889666e-01, 2.44351619e-02, 1.29126611e-01,\n",
              "        1.81053607e-01, 2.22169444e-02],\n",
              "       [5.93127405e-01, 6.73621296e-03, 4.85849049e-01, 6.15105957e-01,\n",
              "        2.98365143e-01, 6.26335497e-01, 8.32271306e-02, 4.39810357e-01,\n",
              "        6.16675764e-01, 7.56717938e-02],\n",
              "       [5.67195786e-01, 6.44170472e-03, 4.64607656e-01, 5.88213432e-01,\n",
              "        2.85320575e-01, 5.98952015e-01, 7.95884280e-02, 4.20581783e-01,\n",
              "        5.89714608e-01, 7.23634116e-02],\n",
              "       [1.63132566e-01, 1.85271443e-03, 1.33626943e-01, 1.69177502e-01,\n",
              "        8.20617475e-02, 1.72266052e-01, 2.28906222e-02, 1.20964554e-01,\n",
              "        1.69609259e-01, 2.08126176e-02],\n",
              "       [6.65018844e-01, 7.55269191e-03, 5.44737556e-01, 6.89661359e-01,\n",
              "        3.34529211e-01, 7.02252002e-01, 9.33148758e-02, 4.93118633e-01,\n",
              "        6.91421439e-01, 8.48437762e-02],\n",
              "       [2.55772251e-01, 2.90483350e-03, 2.09510982e-01, 2.65249985e-01,\n",
              "        1.28662955e-01, 2.70092460e-01, 3.58897437e-02, 1.89657878e-01,\n",
              "        2.65926928e-01, 3.26316823e-02],\n",
              "       [3.79295115e-04, 4.30769620e-06, 3.10692390e-04, 3.93350034e-04,\n",
              "        1.90799549e-04, 4.00531138e-04, 5.32223664e-05, 2.81251412e-04,\n",
              "        3.94353900e-04, 4.83908541e-05],\n",
              "       [2.72032642e-01, 3.08950453e-03, 2.22830372e-01, 2.82112910e-01,\n",
              "        1.36842536e-01, 2.87263240e-01, 3.81713878e-02, 2.01715133e-01,\n",
              "        2.82832889e-01, 3.47061994e-02],\n",
              "       [4.63756635e-01, 5.26693494e-03, 3.79877440e-01, 4.80941306e-01,\n",
              "        2.33286835e-01, 4.89721500e-01, 6.50739347e-02, 3.43880538e-01,\n",
              "        4.82168713e-01, 5.91665402e-02],\n",
              "       [3.05343493e-01, 3.46781953e-03, 2.50116323e-01, 3.16658107e-01,\n",
              "        1.53599133e-01, 3.22439103e-01, 4.28455380e-02, 2.26415488e-01,\n",
              "        3.17466248e-01, 3.89560315e-02]])"
            ]
          },
          "metadata": {},
          "execution_count": 54
        }
      ],
      "source": [
        "A = np.random.uniform(0,1,10)\n",
        "B = np.random.uniform(0,1,10)\n",
        "\n",
        "np.einsum('i->', A)        \n",
        "np.einsum('i,i->i', A, B)  \n",
        "np.einsum('i,i', A, B)     \n",
        "np.einsum('i,j->ij', A, B) "
      ]
    },
    {
      "cell_type": "markdown",
      "metadata": {
        "id": "333mmfj2iaXI"
      },
      "source": [
        "#### 98. Considering a path described by two vectors (X,Y), how to sample it using equidistant samples (★★★)? \n",
        "(**hint**: np.cumsum, np.interp)"
      ]
    },
    {
      "cell_type": "code",
      "execution_count": null,
      "metadata": {
        "collapsed": true,
        "id": "Dbl2f93piaXI"
      },
      "outputs": [],
      "source": [
        "phi = np.arange(0, 10*np.pi, 0.1)\n",
        "a = 1\n",
        "x = a*phi*np.cos(phi)\n",
        "y = a*phi*np.sin(phi)\n",
        "\n",
        "dr = (np.diff(x)**2 + np.diff(y)**2)**.5 \n",
        "r = np.zeros_like(x)\n",
        "r[1:] = np.cumsum(dr)                    \n",
        "r_int = np.linspace(0, r.max(), 200)     \n",
        "x_int = np.interp(r_int, r, x)          \n",
        "y_int = np.interp(r_int, r, y)\n"
      ]
    },
    {
      "cell_type": "markdown",
      "metadata": {
        "id": "1Me8OUrAiaXI"
      },
      "source": [
        "#### 99. Given an integer n and a 2D array X, select from X the rows which can be interpreted as draws from a multinomial distribution with n degrees, i.e., the rows which only contain integers and which sum to n. (★★★) \n",
        "(**hint**: np.logical\\_and.reduce, np.mod)"
      ]
    },
    {
      "cell_type": "code",
      "execution_count": null,
      "metadata": {
        "id": "suubfqEAiaXI",
        "colab": {
          "base_uri": "https://localhost:8080/"
        },
        "outputId": "5c0bb004-d52d-4f1a-b34d-99d43bc0665e"
      },
      "outputs": [
        {
          "output_type": "stream",
          "name": "stdout",
          "text": [
            "[[2. 0. 1. 1.]]\n"
          ]
        }
      ],
      "source": [
        "X = np.asarray([[1.0, 0.0, 3.0, 8.0],\n",
        "                [2.0, 0.0, 1.0, 1.0],\n",
        "                [1.5, 2.5, 1.0, 0.0]])\n",
        "n = 4\n",
        "M = np.logical_and.reduce(np.mod(X, 1) == 0, axis=-1)\n",
        "M &= (X.sum(axis=-1) == n)\n",
        "print(X[M])"
      ]
    },
    {
      "cell_type": "markdown",
      "metadata": {
        "id": "RoMZrnuYiaXI"
      },
      "source": [
        "#### 100. Compute bootstrapped 95% confidence intervals for the mean of a 1D array X (i.e., resample the elements of an array with replacement N times, compute the mean of each sample, and then compute percentiles over the means). (★★★) \n",
        "(**hint**: np.percentile)"
      ]
    },
    {
      "cell_type": "code",
      "execution_count": 4,
      "metadata": {
        "id": "yY7iDkv-iaXJ",
        "colab": {
          "base_uri": "https://localhost:8080/"
        },
        "outputId": "a1bb04a5-2b62-4e53-97ec-b23f7033c93d"
      },
      "outputs": [
        {
          "output_type": "stream",
          "name": "stdout",
          "text": [
            "[-0.18068075  0.14889333]\n"
          ]
        }
      ],
      "source": [
        "X = np.random.randn(100) \n",
        "N = 1000\n",
        "idx = np.random.randint(0, X.size, (N, X.size))\n",
        "means = X[idx].mean(axis=1)\n",
        "confint = np.percentile(means, [2.5, 97.5])\n",
        "print(confint)"
      ]
    }
  ],
  "metadata": {
    "kernelspec": {
      "display_name": "Python 3",
      "language": "python",
      "name": "python3"
    },
    "language_info": {
      "codemirror_mode": {
        "name": "ipython",
        "version": 3
      },
      "file_extension": ".py",
      "mimetype": "text/x-python",
      "name": "python",
      "nbconvert_exporter": "python",
      "pygments_lexer": "ipython3",
      "version": "3.8.3"
    },
    "colab": {
      "name": "Copy of Numpy_tasks.ipynb",
      "provenance": [],
      "include_colab_link": true
    }
  },
  "nbformat": 4,
  "nbformat_minor": 0
}